{
  "cells": [
    {
      "cell_type": "markdown",
      "metadata": {
        "id": "Xu82oaafjXd5"
      },
      "source": [
        "# NLP Assignment 2: Vector Space Semantics for Similarity between Friends Characters"
      ]
    },
    {
      "cell_type": "code",
      "execution_count": 24,
      "metadata": {
        "id": "YXqrt0RvjXeJ",
        "outputId": "b5c96dc3-7e79-42fc-a4eb-f9b061927bf2",
        "colab": {
          "base_uri": "https://localhost:8080/"
        }
      },
      "outputs": [
        {
          "output_type": "stream",
          "name": "stdout",
          "text": [
            "Requirement already satisfied: nltk in /usr/local/lib/python3.10/dist-packages (3.8.1)\n",
            "Requirement already satisfied: click in /usr/local/lib/python3.10/dist-packages (from nltk) (8.1.7)\n",
            "Requirement already satisfied: joblib in /usr/local/lib/python3.10/dist-packages (from nltk) (1.3.2)\n",
            "Requirement already satisfied: regex>=2021.8.3 in /usr/local/lib/python3.10/dist-packages (from nltk) (2023.6.3)\n",
            "Requirement already satisfied: tqdm in /usr/local/lib/python3.10/dist-packages (from nltk) (4.66.1)\n"
          ]
        }
      ],
      "source": [
        "!pip install nltk"
      ]
    },
    {
      "cell_type": "code",
      "execution_count": 25,
      "metadata": {
        "id": "zsf2lB6FjXeQ"
      },
      "outputs": [],
      "source": [
        "import string\n",
        "import re\n",
        "import numpy as np\n",
        "from numpy.linalg import norm\n",
        "import pandas as pd\n",
        "from collections import Counter, OrderedDict\n",
        "\n",
        "import seaborn as sns\n",
        "import matplotlib.pyplot as plt\n",
        "\n",
        "import math\n",
        "import nltk\n",
        "from sklearn.feature_extraction import DictVectorizer\n",
        "\n",
        "%matplotlib inline\n",
        "pd.options.display.max_colwidth=500"
      ]
    },
    {
      "cell_type": "code",
      "execution_count": 26,
      "metadata": {
        "colab": {
          "base_uri": "https://localhost:8080/",
          "height": 493
        },
        "id": "9us9j-PRjXeS",
        "outputId": "97a6df31-dfc2-441a-cf9f-c68f3608ce6a"
      },
      "outputs": [
        {
          "output_type": "execute_result",
          "data": {
            "text/plain": [
              "      Episode Scene  Character_name  \\\n",
              "0      s01e01   c01   Monica Geller   \n",
              "1      s01e01   c01  Joey Tribbiani   \n",
              "2      s01e01   c01   Chandler Bing   \n",
              "3      s01e01   c01   Phoebe Buffay   \n",
              "4      s01e01   c01   Phoebe Buffay   \n",
              "...       ...   ...             ...   \n",
              "53548  s03e25   c12     Ross Geller   \n",
              "53549  s03e25   c13   Chandler Bing   \n",
              "53550  s03e25   c13   Monica Geller   \n",
              "53551  s03e25   c13   Chandler Bing   \n",
              "53552  s03e25   c13   Chandler Bing   \n",
              "\n",
              "                                                                                             Line  \\\n",
              "0                                        There's nothing to tell! He's just some guy I work with!   \n",
              "1                C'mon, you're going out with the guy! There's gotta be something wrong with him!   \n",
              "2                        All right Joey, be nice. So does he have a hump? A hump and a hairpiece?   \n",
              "3                                                                        Wait, does he eat chalk?   \n",
              "4                 Just, 'cause, I don't want her to go through what I went through with Carl- oh!   \n",
              "...                                                                                           ...   \n",
              "53548                                                                                         Hi.   \n",
              "53549                                                                                   Hi there.   \n",
              "53550                                                              That's that weird voice again.   \n",
              "53551            Okay! Okay! Let me try it again, you're gonna wanna date this next guy, I swear!   \n",
              "53552  Hi! I'm Dorf! You're date for the evening. Oh come on! Dorf on dating, that's good stuff!!   \n",
              "\n",
              "       Gender  \n",
              "0      Female  \n",
              "1        Male  \n",
              "2        Male  \n",
              "3      Female  \n",
              "4      Female  \n",
              "...       ...  \n",
              "53548    Male  \n",
              "53549    Male  \n",
              "53550  Female  \n",
              "53551    Male  \n",
              "53552    Male  \n",
              "\n",
              "[53553 rows x 5 columns]"
            ],
            "text/html": [
              "\n",
              "  <div id=\"df-5141f284-2bed-4c64-9ab6-c37daf5e5c21\" class=\"colab-df-container\">\n",
              "    <div>\n",
              "<style scoped>\n",
              "    .dataframe tbody tr th:only-of-type {\n",
              "        vertical-align: middle;\n",
              "    }\n",
              "\n",
              "    .dataframe tbody tr th {\n",
              "        vertical-align: top;\n",
              "    }\n",
              "\n",
              "    .dataframe thead th {\n",
              "        text-align: right;\n",
              "    }\n",
              "</style>\n",
              "<table border=\"1\" class=\"dataframe\">\n",
              "  <thead>\n",
              "    <tr style=\"text-align: right;\">\n",
              "      <th></th>\n",
              "      <th>Episode</th>\n",
              "      <th>Scene</th>\n",
              "      <th>Character_name</th>\n",
              "      <th>Line</th>\n",
              "      <th>Gender</th>\n",
              "    </tr>\n",
              "  </thead>\n",
              "  <tbody>\n",
              "    <tr>\n",
              "      <th>0</th>\n",
              "      <td>s01e01</td>\n",
              "      <td>c01</td>\n",
              "      <td>Monica Geller</td>\n",
              "      <td>There's nothing to tell! He's just some guy I work with!</td>\n",
              "      <td>Female</td>\n",
              "    </tr>\n",
              "    <tr>\n",
              "      <th>1</th>\n",
              "      <td>s01e01</td>\n",
              "      <td>c01</td>\n",
              "      <td>Joey Tribbiani</td>\n",
              "      <td>C'mon, you're going out with the guy! There's gotta be something wrong with him!</td>\n",
              "      <td>Male</td>\n",
              "    </tr>\n",
              "    <tr>\n",
              "      <th>2</th>\n",
              "      <td>s01e01</td>\n",
              "      <td>c01</td>\n",
              "      <td>Chandler Bing</td>\n",
              "      <td>All right Joey, be nice. So does he have a hump? A hump and a hairpiece?</td>\n",
              "      <td>Male</td>\n",
              "    </tr>\n",
              "    <tr>\n",
              "      <th>3</th>\n",
              "      <td>s01e01</td>\n",
              "      <td>c01</td>\n",
              "      <td>Phoebe Buffay</td>\n",
              "      <td>Wait, does he eat chalk?</td>\n",
              "      <td>Female</td>\n",
              "    </tr>\n",
              "    <tr>\n",
              "      <th>4</th>\n",
              "      <td>s01e01</td>\n",
              "      <td>c01</td>\n",
              "      <td>Phoebe Buffay</td>\n",
              "      <td>Just, 'cause, I don't want her to go through what I went through with Carl- oh!</td>\n",
              "      <td>Female</td>\n",
              "    </tr>\n",
              "    <tr>\n",
              "      <th>...</th>\n",
              "      <td>...</td>\n",
              "      <td>...</td>\n",
              "      <td>...</td>\n",
              "      <td>...</td>\n",
              "      <td>...</td>\n",
              "    </tr>\n",
              "    <tr>\n",
              "      <th>53548</th>\n",
              "      <td>s03e25</td>\n",
              "      <td>c12</td>\n",
              "      <td>Ross Geller</td>\n",
              "      <td>Hi.</td>\n",
              "      <td>Male</td>\n",
              "    </tr>\n",
              "    <tr>\n",
              "      <th>53549</th>\n",
              "      <td>s03e25</td>\n",
              "      <td>c13</td>\n",
              "      <td>Chandler Bing</td>\n",
              "      <td>Hi there.</td>\n",
              "      <td>Male</td>\n",
              "    </tr>\n",
              "    <tr>\n",
              "      <th>53550</th>\n",
              "      <td>s03e25</td>\n",
              "      <td>c13</td>\n",
              "      <td>Monica Geller</td>\n",
              "      <td>That's that weird voice again.</td>\n",
              "      <td>Female</td>\n",
              "    </tr>\n",
              "    <tr>\n",
              "      <th>53551</th>\n",
              "      <td>s03e25</td>\n",
              "      <td>c13</td>\n",
              "      <td>Chandler Bing</td>\n",
              "      <td>Okay! Okay! Let me try it again, you're gonna wanna date this next guy, I swear!</td>\n",
              "      <td>Male</td>\n",
              "    </tr>\n",
              "    <tr>\n",
              "      <th>53552</th>\n",
              "      <td>s03e25</td>\n",
              "      <td>c13</td>\n",
              "      <td>Chandler Bing</td>\n",
              "      <td>Hi! I'm Dorf! You're date for the evening. Oh come on! Dorf on dating, that's good stuff!!</td>\n",
              "      <td>Male</td>\n",
              "    </tr>\n",
              "  </tbody>\n",
              "</table>\n",
              "<p>53553 rows × 5 columns</p>\n",
              "</div>\n",
              "    <div class=\"colab-df-buttons\">\n",
              "\n",
              "  <div class=\"colab-df-container\">\n",
              "    <button class=\"colab-df-convert\" onclick=\"convertToInteractive('df-5141f284-2bed-4c64-9ab6-c37daf5e5c21')\"\n",
              "            title=\"Convert this dataframe to an interactive table.\"\n",
              "            style=\"display:none;\">\n",
              "\n",
              "  <svg xmlns=\"http://www.w3.org/2000/svg\" height=\"24px\" viewBox=\"0 -960 960 960\">\n",
              "    <path d=\"M120-120v-720h720v720H120Zm60-500h600v-160H180v160Zm220 220h160v-160H400v160Zm0 220h160v-160H400v160ZM180-400h160v-160H180v160Zm440 0h160v-160H620v160ZM180-180h160v-160H180v160Zm440 0h160v-160H620v160Z\"/>\n",
              "  </svg>\n",
              "    </button>\n",
              "\n",
              "  <style>\n",
              "    .colab-df-container {\n",
              "      display:flex;\n",
              "      gap: 12px;\n",
              "    }\n",
              "\n",
              "    .colab-df-convert {\n",
              "      background-color: #E8F0FE;\n",
              "      border: none;\n",
              "      border-radius: 50%;\n",
              "      cursor: pointer;\n",
              "      display: none;\n",
              "      fill: #1967D2;\n",
              "      height: 32px;\n",
              "      padding: 0 0 0 0;\n",
              "      width: 32px;\n",
              "    }\n",
              "\n",
              "    .colab-df-convert:hover {\n",
              "      background-color: #E2EBFA;\n",
              "      box-shadow: 0px 1px 2px rgba(60, 64, 67, 0.3), 0px 1px 3px 1px rgba(60, 64, 67, 0.15);\n",
              "      fill: #174EA6;\n",
              "    }\n",
              "\n",
              "    .colab-df-buttons div {\n",
              "      margin-bottom: 4px;\n",
              "    }\n",
              "\n",
              "    [theme=dark] .colab-df-convert {\n",
              "      background-color: #3B4455;\n",
              "      fill: #D2E3FC;\n",
              "    }\n",
              "\n",
              "    [theme=dark] .colab-df-convert:hover {\n",
              "      background-color: #434B5C;\n",
              "      box-shadow: 0px 1px 3px 1px rgba(0, 0, 0, 0.15);\n",
              "      filter: drop-shadow(0px 1px 2px rgba(0, 0, 0, 0.3));\n",
              "      fill: #FFFFFF;\n",
              "    }\n",
              "  </style>\n",
              "\n",
              "    <script>\n",
              "      const buttonEl =\n",
              "        document.querySelector('#df-5141f284-2bed-4c64-9ab6-c37daf5e5c21 button.colab-df-convert');\n",
              "      buttonEl.style.display =\n",
              "        google.colab.kernel.accessAllowed ? 'block' : 'none';\n",
              "\n",
              "      async function convertToInteractive(key) {\n",
              "        const element = document.querySelector('#df-5141f284-2bed-4c64-9ab6-c37daf5e5c21');\n",
              "        const dataTable =\n",
              "          await google.colab.kernel.invokeFunction('convertToInteractive',\n",
              "                                                    [key], {});\n",
              "        if (!dataTable) return;\n",
              "\n",
              "        const docLinkHtml = 'Like what you see? Visit the ' +\n",
              "          '<a target=\"_blank\" href=https://colab.research.google.com/notebooks/data_table.ipynb>data table notebook</a>'\n",
              "          + ' to learn more about interactive tables.';\n",
              "        element.innerHTML = '';\n",
              "        dataTable['output_type'] = 'display_data';\n",
              "        await google.colab.output.renderOutput(dataTable, element);\n",
              "        const docLink = document.createElement('div');\n",
              "        docLink.innerHTML = docLinkHtml;\n",
              "        element.appendChild(docLink);\n",
              "      }\n",
              "    </script>\n",
              "  </div>\n",
              "\n",
              "\n",
              "<div id=\"df-41252b9a-2b63-462f-82bf-4aa9be70c235\">\n",
              "  <button class=\"colab-df-quickchart\" onclick=\"quickchart('df-41252b9a-2b63-462f-82bf-4aa9be70c235')\"\n",
              "            title=\"Suggest charts\"\n",
              "            style=\"display:none;\">\n",
              "\n",
              "<svg xmlns=\"http://www.w3.org/2000/svg\" height=\"24px\"viewBox=\"0 0 24 24\"\n",
              "     width=\"24px\">\n",
              "    <g>\n",
              "        <path d=\"M19 3H5c-1.1 0-2 .9-2 2v14c0 1.1.9 2 2 2h14c1.1 0 2-.9 2-2V5c0-1.1-.9-2-2-2zM9 17H7v-7h2v7zm4 0h-2V7h2v10zm4 0h-2v-4h2v4z\"/>\n",
              "    </g>\n",
              "</svg>\n",
              "  </button>\n",
              "\n",
              "<style>\n",
              "  .colab-df-quickchart {\n",
              "      --bg-color: #E8F0FE;\n",
              "      --fill-color: #1967D2;\n",
              "      --hover-bg-color: #E2EBFA;\n",
              "      --hover-fill-color: #174EA6;\n",
              "      --disabled-fill-color: #AAA;\n",
              "      --disabled-bg-color: #DDD;\n",
              "  }\n",
              "\n",
              "  [theme=dark] .colab-df-quickchart {\n",
              "      --bg-color: #3B4455;\n",
              "      --fill-color: #D2E3FC;\n",
              "      --hover-bg-color: #434B5C;\n",
              "      --hover-fill-color: #FFFFFF;\n",
              "      --disabled-bg-color: #3B4455;\n",
              "      --disabled-fill-color: #666;\n",
              "  }\n",
              "\n",
              "  .colab-df-quickchart {\n",
              "    background-color: var(--bg-color);\n",
              "    border: none;\n",
              "    border-radius: 50%;\n",
              "    cursor: pointer;\n",
              "    display: none;\n",
              "    fill: var(--fill-color);\n",
              "    height: 32px;\n",
              "    padding: 0;\n",
              "    width: 32px;\n",
              "  }\n",
              "\n",
              "  .colab-df-quickchart:hover {\n",
              "    background-color: var(--hover-bg-color);\n",
              "    box-shadow: 0 1px 2px rgba(60, 64, 67, 0.3), 0 1px 3px 1px rgba(60, 64, 67, 0.15);\n",
              "    fill: var(--button-hover-fill-color);\n",
              "  }\n",
              "\n",
              "  .colab-df-quickchart-complete:disabled,\n",
              "  .colab-df-quickchart-complete:disabled:hover {\n",
              "    background-color: var(--disabled-bg-color);\n",
              "    fill: var(--disabled-fill-color);\n",
              "    box-shadow: none;\n",
              "  }\n",
              "\n",
              "  .colab-df-spinner {\n",
              "    border: 2px solid var(--fill-color);\n",
              "    border-color: transparent;\n",
              "    border-bottom-color: var(--fill-color);\n",
              "    animation:\n",
              "      spin 1s steps(1) infinite;\n",
              "  }\n",
              "\n",
              "  @keyframes spin {\n",
              "    0% {\n",
              "      border-color: transparent;\n",
              "      border-bottom-color: var(--fill-color);\n",
              "      border-left-color: var(--fill-color);\n",
              "    }\n",
              "    20% {\n",
              "      border-color: transparent;\n",
              "      border-left-color: var(--fill-color);\n",
              "      border-top-color: var(--fill-color);\n",
              "    }\n",
              "    30% {\n",
              "      border-color: transparent;\n",
              "      border-left-color: var(--fill-color);\n",
              "      border-top-color: var(--fill-color);\n",
              "      border-right-color: var(--fill-color);\n",
              "    }\n",
              "    40% {\n",
              "      border-color: transparent;\n",
              "      border-right-color: var(--fill-color);\n",
              "      border-top-color: var(--fill-color);\n",
              "    }\n",
              "    60% {\n",
              "      border-color: transparent;\n",
              "      border-right-color: var(--fill-color);\n",
              "    }\n",
              "    80% {\n",
              "      border-color: transparent;\n",
              "      border-right-color: var(--fill-color);\n",
              "      border-bottom-color: var(--fill-color);\n",
              "    }\n",
              "    90% {\n",
              "      border-color: transparent;\n",
              "      border-bottom-color: var(--fill-color);\n",
              "    }\n",
              "  }\n",
              "</style>\n",
              "\n",
              "  <script>\n",
              "    async function quickchart(key) {\n",
              "      const quickchartButtonEl =\n",
              "        document.querySelector('#' + key + ' button');\n",
              "      quickchartButtonEl.disabled = true;  // To prevent multiple clicks.\n",
              "      quickchartButtonEl.classList.add('colab-df-spinner');\n",
              "      try {\n",
              "        const charts = await google.colab.kernel.invokeFunction(\n",
              "            'suggestCharts', [key], {});\n",
              "      } catch (error) {\n",
              "        console.error('Error during call to suggestCharts:', error);\n",
              "      }\n",
              "      quickchartButtonEl.classList.remove('colab-df-spinner');\n",
              "      quickchartButtonEl.classList.add('colab-df-quickchart-complete');\n",
              "    }\n",
              "    (() => {\n",
              "      let quickchartButtonEl =\n",
              "        document.querySelector('#df-41252b9a-2b63-462f-82bf-4aa9be70c235 button');\n",
              "      quickchartButtonEl.style.display =\n",
              "        google.colab.kernel.accessAllowed ? 'block' : 'none';\n",
              "    })();\n",
              "  </script>\n",
              "</div>\n",
              "    </div>\n",
              "  </div>\n"
            ]
          },
          "metadata": {},
          "execution_count": 26
        }
      ],
      "source": [
        "# Load in training data and display in pandas dataframe\n",
        "train_path='training.csv'\n",
        "train_data = pd.read_csv(train_path,  delimiter=\"\\t\", skip_blank_lines = True)\n",
        "val_path ='val.csv'\n",
        "val_data = pd.read_csv(val_path,  delimiter=\"\\t\", skip_blank_lines = True)\n",
        "test_path ='test.csv'\n",
        "test_data = pd.read_csv(test_path,  delimiter=\"\\t\", skip_blank_lines = True)\n",
        "\n",
        "# Inspect\n",
        "train_data"
      ]
    },
    {
      "cell_type": "markdown",
      "source": [
        "# Q3. Add dialogue context and scene features (15 marks)\n",
        "\n",
        "**Solution 3-**\n",
        "\n",
        "Adjusted the method `create_character_document_from_dataframe` which aims to generate character documents with context by joining each character's lines into a single string and including lines spoken by other characters in the same scene as context.\n",
        "The method involves Grouping by Episodes and Scenes, Iterating Over Episodes and Scenes, Iterating Over Characters in the Scene, Processing Each Character's Lines, Processing Context Lines, Combining Character's Lines with Context.\n",
        "\n",
        "\n",
        "Hence, it incorporates the context of the line spoken by the characters in terms of the lines spoken by other characters in the same scene.\n",
        "\n"
      ],
      "metadata": {
        "id": "GWajSj7hYkPI"
      }
    },
    {
      "cell_type": "code",
      "execution_count": 27,
      "metadata": {
        "id": "zgTujBnQjXeU"
      },
      "outputs": [],
      "source": [
        "def create_character_document_from_dataframe(df, max_lines_per_character, context_size=5):\n",
        "    character_documents = {}\n",
        "    character_line_count = {}\n",
        "\n",
        "    # Group DataFrame by episode and scene\n",
        "    grouped_episodes_scenes = df.groupby(['Episode', 'Scene'])\n",
        "\n",
        "    # Iterate over each episode and scene\n",
        "    for (episode, scene), group in grouped_episodes_scenes:\n",
        "        # Iterate over each character in the scene\n",
        "        for character_name, character_lines_group in group.dropna(subset=['Line']).groupby('Character_name'):\n",
        "            if character_name not in character_documents:\n",
        "                character_documents[character_name] = \"\"\n",
        "                character_line_count[character_name] = 0\n",
        "\n",
        "            # Check if the character has reached the maximum line count\n",
        "            if character_line_count[character_name] >= max_lines_per_character:\n",
        "                continue\n",
        "\n",
        "            # Iterate over each line in the character's lines group\n",
        "            for line_index in character_lines_group.index:\n",
        "                # Get context lines (limited by context_size)\n",
        "                # Ensure the context is from the same scene and does not include the character's own lines\n",
        "                character_line_count[character_name] += 1\n",
        "\n",
        "                # Check if the character has reached the maximum line count\n",
        "                if character_line_count[character_name] >= max_lines_per_character:\n",
        "                    break\n",
        "\n",
        "                # Get context lines before and after the current line\n",
        "                context_before = group.loc[(group.index < line_index) & (group['Character_name'] != character_name)].tail(context_size)['Line'].dropna().astype(str).tolist()\n",
        "                context_after = group.loc[(group.index > line_index) & (group['Character_name'] != character_name)].head(context_size)['Line'].dropna().astype(str).tolist()\n",
        "\n",
        "                # Combine context lines with \"EOL\" (end-of-line) separators\n",
        "                context = \" EOL \".join(context_before + context_after)\n",
        "\n",
        "                # Combine character's own lines with context and add special markers\n",
        "                character_lines = \" EOL \".join(character_lines_group.loc[line_index].astype(str).tolist())\n",
        "                character_documents[character_name] += character_lines + \" CONTEXT_START \" + context + \" CONTEXT_END \"\n",
        "\n",
        "    print(\"Lines per character:\", character_line_count)\n",
        "    return character_documents\n"
      ]
    },
    {
      "cell_type": "code",
      "execution_count": 28,
      "metadata": {
        "colab": {
          "base_uri": "https://localhost:8080/"
        },
        "id": "9zlbbiDgjXeV",
        "outputId": "f0abf9b9-261c-4a90-83dc-c9caba98e0d5"
      },
      "outputs": [
        {
          "output_type": "stream",
          "name": "stdout",
          "text": [
            "Lines per character: {'#ALL#': 300, 'Chandler Bing': 300, 'Joey Tribbiani': 300, 'Monica Geller': 300, 'Other_None': 300, 'Phoebe Buffay': 300, 'Rachel Green': 300, 'Ross Geller': 300, 'Other_Female': 300, 'Other_Male': 300}\n",
            "Num. Characters:  10 \n",
            "\n",
            "#ALL# Number of Words:  32349\n",
            "Chandler Bing Number of Words:  29734\n",
            "Joey Tribbiani Number of Words:  31753\n",
            "Monica Geller Number of Words:  32742\n",
            "Other_None Number of Words:  28885\n",
            "Phoebe Buffay Number of Words:  31236\n",
            "Rachel Green Number of Words:  32927\n",
            "Ross Geller Number of Words:  29297\n",
            "Other_Female Number of Words:  33053\n",
            "Other_Male Number of Words:  30795\n",
            "total words 312771\n"
          ]
        }
      ],
      "source": [
        "# print out the number of words each character has in the training set\n",
        "# only use the first 300 lines of each character\n",
        "train_character_docs = create_character_document_from_dataframe(train_data, max_lines_per_character=300)\n",
        "print('Num. Characters: ',len(train_character_docs.keys()),\"\\n\")\n",
        "total_words = 0\n",
        "for name in train_character_docs.keys():\n",
        "    print(name, 'Number of Words: ',len(train_character_docs[name].split()))\n",
        "    total_words += len(train_character_docs[name].split())\n",
        "print(\"total words\", total_words)"
      ]
    },
    {
      "cell_type": "markdown",
      "source": [
        "# Q1. Improve pre-processing (20 marks)\n",
        "\n",
        "**Solution 1-** As part of question 1, I have added extra steps to tokenise and filter out the unwanted tokens. The techniques I have tried are as follows:-\n",
        "1. **Lowercasing** - This will convert each doc of corpus into lower case.\n",
        "2. **Tokenization** - Using `word_tokenize` to generate tokens for the character text.\n",
        "3. **Punctuation Removal** - This will remove any punctuation in the character text.\n",
        "4. **Stopwords Removal** - This will remove stopwords include common words such as \"the,\" \"and,\" \"is,\" \"in,\" and so on.\n",
        "5. **Stemming** - This will reduce words to their base or root form. It involves removing suffixes from words to obtain a common base form.\n",
        "6. **Special Character Removal** - This involves eliminating non-alphabetic characters.\n",
        "7. **Handling Contractions** - Handling contractions involves expanding contractions in text. For example, converting \"don't\" to \"do not\" or \"I'll\" to \"I will.\"\n",
        "8. **Removing HTML Tags and URLs** - Removing HTML tags and URLs involves eliminating HTML tags and web links from text data.\n",
        "9. **Handling Accented Characters** - It involves converting accented characters (e.g., é, ü) to their non-accented counterparts (e.g., e, u).\n",
        "10. **Handling Rare Words** - It removes words that appear only once.\n",
        "11. **Lemmatization** - It reduce words to their base or dictionary form (lemma). Unlike stemming, lemmatization considers the context and aims to transform words to their canonical or meaningful base form.\n",
        "\n",
        "The mean value before was 4.2 for validation set and 4.0 for testing set.\n",
        "The mean value after is 3.8 for validation set and 3.3 for testing set.\n"
      ],
      "metadata": {
        "id": "Kt1hw9ldNHRU"
      }
    },
    {
      "cell_type": "code",
      "execution_count": 29,
      "metadata": {
        "colab": {
          "base_uri": "https://localhost:8080/"
        },
        "id": "7hTXllbyjXeZ",
        "outputId": "459df09a-6ae7-4d54-f989-a6d754cde7b6"
      },
      "outputs": [
        {
          "output_type": "stream",
          "name": "stdout",
          "text": [
            "Raw Text:\n",
            "This is a text with some contractions, special special characters, and numbers 123. It's not good but not bad.\n",
            "\n",
            "Preprocessed Text:\n",
            "['', 'special', 'special', '', '', '']\n"
          ]
        },
        {
          "output_type": "stream",
          "name": "stderr",
          "text": [
            "[nltk_data] Downloading package punkt to /root/nltk_data...\n",
            "[nltk_data]   Package punkt is already up-to-date!\n",
            "[nltk_data] Downloading package stopwords to /root/nltk_data...\n",
            "[nltk_data]   Package stopwords is already up-to-date!\n",
            "[nltk_data] Downloading package wordnet to /root/nltk_data...\n",
            "[nltk_data]   Package wordnet is already up-to-date!\n"
          ]
        }
      ],
      "source": [
        "nltk.download('punkt')\n",
        "nltk.download('stopwords')\n",
        "nltk.download('wordnet')\n",
        "\n",
        "import re\n",
        "from nltk.tokenize import word_tokenize\n",
        "from nltk.corpus import stopwords\n",
        "from nltk.stem import PorterStemmer, WordNetLemmatizer\n",
        "\n",
        "def pre_process(character_text):\n",
        "    \"\"\"Pre-process all the concatenated lines of a character,\n",
        "    using tokenization, spelling normalization and other techniques.\n",
        "\n",
        "    ::character_text:: a string with all of one character's lines\n",
        "    \"\"\"\n",
        "    # Lowercasing\n",
        "    character_text = character_text.lower()\n",
        "\n",
        "    # Tokenization\n",
        "    tokens = word_tokenize(character_text)\n",
        "\n",
        "    # Removing Punctuation\n",
        "    tokens = [re.sub(r'[^\\w\\s]', '', token) for token in tokens]\n",
        "\n",
        "    # Removing Stopwords\n",
        "    stop_words = set(stopwords.words('english'))\n",
        "    tokens = [token for token in tokens if token not in stop_words]\n",
        "\n",
        "    # # Stemming\n",
        "    # stemmer = PorterStemmer()\n",
        "    # tokens = [stemmer.stem(token) for token in tokens]\n",
        "\n",
        "    # Removing Special Characters and Numbers\n",
        "    tokens = [re.sub(r'[^a-zA-Z\\s]', '', token) for token in tokens]\n",
        "\n",
        "    # Handling Contractions (basic example)\n",
        "    tokens = [re.sub(r\"n't\", ' not', token) for token in tokens]\n",
        "\n",
        "    # Removing HTML Tags and URLs\n",
        "    tokens = [re.sub(r'<[^>]+>', '', token) for token in tokens]\n",
        "    tokens = [re.sub(r'http[s]?://(?:[a-zA-Z]|[0-9]|[$-_@.&+]|[!*\\\\(\\\\),]|(?:%[0-9a-fA-F][0-9a-fA-F]))+', '', token) for token in tokens]\n",
        "\n",
        "    # Handling Accented Characters\n",
        "    tokens = [re.sub(r'[^\\x00-\\x7F]+', '', token) for token in tokens]\n",
        "\n",
        "    # Handling Rare Words (remove words that appear only once)\n",
        "    word_counts = Counter(tokens)\n",
        "    tokens = [token for token in tokens if word_counts[token] > 1]\n",
        "\n",
        "    # Lemmatization\n",
        "    lemmatizer = WordNetLemmatizer()\n",
        "    tokens = [lemmatizer.lemmatize(token) for token in tokens]\n",
        "\n",
        "    return tokens\n",
        "\n",
        "\n",
        "# Example Usage:\n",
        "raw_text = \"This is a text with some contractions, special special characters, and numbers 123. It's not good but not bad.\"\n",
        "preprocessed_text = pre_process(raw_text)\n",
        "print(\"Raw Text:\")\n",
        "print(raw_text)\n",
        "print(\"\\nPreprocessed Text:\")\n",
        "print(preprocessed_text)"
      ]
    },
    {
      "cell_type": "code",
      "execution_count": 30,
      "metadata": {
        "id": "tEXE0r7qjXeb"
      },
      "outputs": [],
      "source": [
        "# create list of pairs of (character name, pre-processed character)\n",
        "training_corpus = [(name, pre_process(doc)) for name, doc in sorted(train_character_docs.items())]\n",
        "train_labels = [name for name, doc in training_corpus]"
      ]
    },
    {
      "cell_type": "markdown",
      "source": [
        "# Q2. Improve linguistic feature extraction (30 marks)\n",
        "## **Solution 2- To improve the linguistic feature extraction I have added few techniques which are as follows:-**\n",
        "\n",
        "## Optemization in **to_feature_vector_dictionary** Method\n",
        "It includes adding basic features like `length`, `number of words`, and `average word length` for the character doc in corpus. Post that I added `N-gram` where I have used `Bi-gram`, `Tri-gram`, `Tetra-gram`. Another technique I used is `POS tagging` which can be called using the function `get_pos_tags`. This function takes a piece of text as input, tokenizes it into words, and then performs part-of-speech (POS) tagging on those words using the NLTK library. It returns a list of POS tags for each word in the text.\n",
        "\n",
        "The function `to_feature_vector_dictionary` takes a list of pre-processed tokens (character_doc) and a list of extra features (extra_features). It creates a dictionary (features) to represent the feature vector for the character.\n",
        "\n",
        "## Optemization in **create_document_matrix_from_corpus** Method\n",
        "The function, `create_document_matrix_from_corpus`, is designed to create a feature matrix from a given corpus using different vectorization techniques and feature selection. It include techniques like `TF-IDF` and `k-best selection`.\n",
        "\n",
        "This section handles the fitting or transforming of the documents based on the value of the fitting parameter:\n",
        "\n",
        "- If fitting is True, it means this is the training phase, and the vectorizer (corpusVectorizer) and feature selector (selector_fm) need to be fitted on the training data. It fits the vectorizer and transforms the documents using both the vectorizer and feature selector.\n",
        "\n",
        "- If fitting is False, it means this is the testing or validation phase. It only transforms the documents using the pre-fitted vectorizer and feature selector.\n",
        "\n",
        "The function returns the transformed feature matrix (doc_feature_matrix_after), the fitted vectorizer (corpusVectorizer), and the fitted feature selector (selector_fm). This allows you to use the same fitted vectorizer and feature selector when transforming new data during the testing or validation phase.\n",
        "\n",
        "**The performance metrics before for validation set was :-**\n",
        "- mean rank 3.8\n",
        "- mean cosine similarity 0.990134754654987\n",
        "- 3 correct out of 10 / accuracy: 0.3\n",
        "\n",
        "**The performance metrics before for testing set was :-**\n",
        "- mean rank 3.3\n",
        "- mean cosine similarity 0.989790382449\n",
        "- 5 correct out of 10 / accuracy: 0.5\n",
        "\n",
        "**The performance metrics after for validation set is :-**\n",
        "- mean rank 4.8\n",
        "- mean cosine similarity 0.062866284486955\n",
        "- 2 correct out of 10 / accuracy: 0.2\n",
        "\n",
        "**The performance metrics after for testing set is :-**\n",
        "- mean rank 4.9\n",
        "- mean cosine similarity 0.0777677971579\n",
        "- 1 correct out of 10 / accuracy: 0.1\n"
      ],
      "metadata": {
        "id": "qdRpLoHvPltb"
      }
    },
    {
      "cell_type": "code",
      "execution_count": 31,
      "metadata": {
        "id": "LXQs0gvQjXed",
        "colab": {
          "base_uri": "https://localhost:8080/"
        },
        "outputId": "745a873d-152e-4a70-a50b-1102f2b9ec2d"
      },
      "outputs": [
        {
          "output_type": "stream",
          "name": "stderr",
          "text": [
            "[nltk_data] Downloading package vader_lexicon to /root/nltk_data...\n",
            "[nltk_data]   Package vader_lexicon is already up-to-date!\n",
            "[nltk_data] Downloading package averaged_perceptron_tagger to\n",
            "[nltk_data]     /root/nltk_data...\n",
            "[nltk_data]   Package averaged_perceptron_tagger is already up-to-\n",
            "[nltk_data]       date!\n"
          ]
        }
      ],
      "source": [
        "from nltk import ngrams\n",
        "from sklearn.feature_extraction.text import CountVectorizer, TfidfVectorizer\n",
        "from nltk import pos_tag\n",
        "from nltk.sentiment import SentimentIntensityAnalyzer\n",
        "from collections import Counter\n",
        "\n",
        "# Download NLTK data for POS tagging and sentiment analysis\n",
        "import nltk\n",
        "nltk.download('vader_lexicon')\n",
        "nltk.download('averaged_perceptron_tagger')\n",
        "\n",
        "def to_feature_vector_dictionary(character_doc, extra_features=None):\n",
        "    \"\"\"Converts a list of pre-processed tokens and extra features\n",
        "    to a Dictionary as a function of the tokens.\n",
        "\n",
        "    Incorporates N-grams(1-4), POS tags, and few other features.\n",
        "\n",
        "    ::character_doc:: a list of pre-processed tokens\n",
        "    ::extra_features:: any extra features for the character to be added to feature vector dict\n",
        "    \"\"\"\n",
        "\n",
        "    # to check for non-empty input\n",
        "    if not character_doc:\n",
        "        return {\"empty_document\": 1}\n",
        "\n",
        "    counts = Counter()\n",
        "\n",
        "    features = {}\n",
        "    features['length'] = len(character_doc)\n",
        "    features['num_words'] = len(character_doc)\n",
        "    features['average_word_length'] = sum(len(word) for word in character_doc) / max(1, features['num_words'])\n",
        "\n",
        "    # N-grams (unigrams, bigrams, and trigrams, tetragram)\n",
        "    n_gram_vector = CountVectorizer(ngram_range=(1, 4))\n",
        "    n_gram_matrix = n_gram_vector.fit_transform([\" \".join(character_doc)])\n",
        "    n_gram_feature_names = n_gram_vector.get_feature_names_out()\n",
        "    n_gram_dict = dict(zip(n_gram_feature_names, n_gram_matrix.toarray()[0]))\n",
        "\n",
        "    #POS tags\n",
        "    pos_tags = [tag for _, tag in pos_tag(character_doc)]\n",
        "    pos_feature_dict = dict(zip(pos_tags, [1] * len(pos_tags)))\n",
        "\n",
        "    #Combine all features\n",
        "    counts.update(n_gram_dict)\n",
        "    counts.update(pos_feature_dict)\n",
        "    counts.update(features)\n",
        "\n",
        "    #extra features\n",
        "    if extra_features:\n",
        "        for feature in extra_features:\n",
        "            counts[feature] += 1\n",
        "\n",
        "    return counts\n"
      ]
    },
    {
      "cell_type": "code",
      "execution_count": 32,
      "metadata": {
        "id": "UkG8PsB-jXef",
        "colab": {
          "base_uri": "https://localhost:8080/"
        },
        "outputId": "503ff35a-1e7d-45d7-9204-0e1947746f49"
      },
      "outputs": [
        {
          "output_type": "stream",
          "name": "stderr",
          "text": [
            "[nltk_data] Downloading package averaged_perceptron_tagger to\n",
            "[nltk_data]     /root/nltk_data...\n",
            "[nltk_data]   Package averaged_perceptron_tagger is already up-to-\n",
            "[nltk_data]       date!\n"
          ]
        }
      ],
      "source": [
        "nltk.download('averaged_perceptron_tagger')\n",
        "from sklearn.feature_extraction.text import TfidfVectorizer\n",
        "from sklearn.feature_selection import SelectKBest, chi2, f_classif, SelectFpr\n",
        "\n",
        "def create_document_matrix_from_corpus(corpus, corpusVectorizer, selector_fm, fitting=False):\n",
        "    \"\"\"Method which fits different vectorizers\n",
        "    on data and returns a matrix.\n",
        "\n",
        "    Currently doing TF-IDF and K_best selector technique.\n",
        "\n",
        "    ::corpus:: a list of (class_label, document) pairs.\n",
        "    ::fitting:: a boolean indicating whether to fit/train the vectorizers (should be true on training data)\n",
        "    \"\"\"\n",
        "\n",
        "    if fitting:\n",
        "        # Fit the TfidfVectorizer on the training data\n",
        "        doc_feature_matrix = corpusVectorizer.fit_transform([' '.join(to_feature_vector_dictionary(doc, [])) for _, doc in corpus])\n",
        "        doc_feature_matrix_after = selector_fm.fit_transform(doc_feature_matrix, [label for label, doc in corpus ])\n",
        "\n",
        "    else:\n",
        "        # Transform the documents into a TF-IDF feature matrix\n",
        "        doc_feature_matrix = corpusVectorizer.transform([' '.join(to_feature_vector_dictionary(doc, [])) for _, doc in corpus])\n",
        "        doc_feature_matrix_after = selector_fm.transform(doc_feature_matrix)\n",
        "\n",
        "    return doc_feature_matrix_after, corpusVectorizer, selector_fm\n",
        "\n",
        "\n",
        "vectorizer = TfidfVectorizer(min_df=5)\n",
        "selector = SelectKBest(chi2, k='all')\n",
        "\n",
        "training_feature_matrix, vectorizer_fit, selector_fit = create_document_matrix_from_corpus(training_corpus, vectorizer, selector, fitting=True)\n"
      ]
    },
    {
      "cell_type": "code",
      "execution_count": 33,
      "metadata": {
        "colab": {
          "base_uri": "https://localhost:8080/"
        },
        "id": "PWuOlJJKjXeh",
        "outputId": "dfa0b31f-5b4a-4336-ebd3-a0615c337af4"
      },
      "outputs": [
        {
          "output_type": "execute_result",
          "data": {
            "text/plain": [
              "<10x878 sparse matrix of type '<class 'numpy.float64'>'\n",
              "\twith 6749 stored elements in Compressed Sparse Row format>"
            ]
          },
          "metadata": {},
          "execution_count": 33
        }
      ],
      "source": [
        "training_feature_matrix"
      ]
    },
    {
      "cell_type": "code",
      "execution_count": 34,
      "metadata": {
        "colab": {
          "base_uri": "https://localhost:8080/"
        },
        "id": "MREGLSpWjXej",
        "outputId": "d05da93d-66b7-476c-fb9f-c67700d5ec25"
      },
      "outputs": [
        {
          "output_type": "stream",
          "name": "stdout",
          "text": [
            "Lines per character: {'Other_None': 30, 'Rachel Green': 30, 'Other_Male': 30, '#ALL#': 18, 'Chandler Bing': 30, 'Joey Tribbiani': 30, 'Monica Geller': 30, 'Phoebe Buffay': 30, 'Ross Geller': 30, 'Other_Female': 30}\n",
            "Num. Characters:  10 \n",
            "\n",
            "Other_None Num of Words:  2516\n",
            "Rachel Green Num of Words:  3036\n",
            "Other_Male Num of Words:  2642\n",
            "#ALL# Num of Words:  1930\n",
            "Chandler Bing Num of Words:  2594\n",
            "Joey Tribbiani Num of Words:  2347\n",
            "Monica Geller Num of Words:  2480\n",
            "Phoebe Buffay Num of Words:  2229\n",
            "Ross Geller Num of Words:  2349\n",
            "Other_Female Num of Words:  3447\n",
            "total words 25570\n"
          ]
        }
      ],
      "source": [
        "# get the validation data- only 30 lines used for each character\n",
        "val_character_docs = create_character_document_from_dataframe(val_data, max_lines_per_character=30)\n",
        "print('Num. Characters: ',len(val_character_docs.keys()),\"\\n\")\n",
        "total_words = 0\n",
        "for name in val_character_docs.keys():\n",
        "    print(name, 'Num of Words: ',len(val_character_docs[name].split()))\n",
        "    total_words += len(val_character_docs[name].split())\n",
        "print(\"total words\", total_words)\n",
        "\n",
        "# create list of pairs of (character name, pre-processed character)\n",
        "val_corpus = [(name, pre_process(doc)) for name, doc in sorted(val_character_docs.items())]\n",
        "val_labels = [name for name, doc in val_corpus]"
      ]
    },
    {
      "cell_type": "code",
      "execution_count": 35,
      "metadata": {
        "id": "BErCoRaKjXek"
      },
      "outputs": [],
      "source": [
        "val_feature_matrix, _, _ = create_document_matrix_from_corpus(val_corpus,vectorizer_fit, selector_fit, fitting=False)"
      ]
    },
    {
      "cell_type": "code",
      "execution_count": 36,
      "metadata": {
        "colab": {
          "base_uri": "https://localhost:8080/"
        },
        "id": "CFAHsQRIjXel",
        "outputId": "1e773e33-9a78-463c-a2f2-4be88871acdc"
      },
      "outputs": [
        {
          "output_type": "execute_result",
          "data": {
            "text/plain": [
              "<10x878 sparse matrix of type '<class 'numpy.float64'>'\n",
              "\twith 1420 stored elements in Compressed Sparse Row format>"
            ]
          },
          "metadata": {},
          "execution_count": 36
        }
      ],
      "source": [
        "val_feature_matrix"
      ]
    },
    {
      "cell_type": "code",
      "execution_count": 37,
      "metadata": {
        "id": "OAKy3IRJjXel"
      },
      "outputs": [],
      "source": [
        "def compute_cosine_similarity(v1, v2):\n",
        "    \"\"\"Takes a pair of vectors v1 and v2 (1-d arrays e.g. [0, 0.5, 0.5])\n",
        "    returns the cosine similarity between the vectors\n",
        "    \"\"\"\n",
        "\n",
        "    if norm(v1) == 0 or norm(v2) == 0:\n",
        "        # Handle division by zero by returning 0 or another suitable value\n",
        "        return 0.0\n",
        "\n",
        "    # compute cosine similarity manually\n",
        "    manual_cosine_similarity = np.dot(v1, v2)  /(norm(v1) * norm(v2))\n",
        "\n",
        "    return manual_cosine_similarity"
      ]
    },
    {
      "cell_type": "code",
      "execution_count": 38,
      "metadata": {
        "id": "fxCUtwM4jXem"
      },
      "outputs": [],
      "source": [
        "def compute_IR_evaluation_scores(train_feature_matrix, test_feature_matrix, train_labels, test_labels):\n",
        "    \"\"\"\n",
        "    Computes an information retrieval based on training data feature matrix and test data feature matrix\n",
        "    returns 4-tuple:\n",
        "    ::mean_rank:: mean of the ranking of the target document in terms of similarity to the query/test document\n",
        "    1 is the best possible score.\n",
        "    ::mean_cosine_similarity:: mean cosine similarity score for the target document vs. the test document of the same class\n",
        "    ::accuracy:: proportion of test documents correctly classified\n",
        "    ::df:: a data frame with all the similarity measures of the test documents vs. train documents\n",
        "\n",
        "    params:\n",
        "    ::train_feature_matrix:: a numpy matrix N x M shape where N = number of characters M = number of features\n",
        "    ::test_feature_matrix::  a numpy matrix N x M shape where N = number of characters M = number of features\n",
        "    ::train_labels:: a list of character names for the training data in order consistent with train_feature_matrix\n",
        "    ::test_labels:: a list of character names for the test data in order consistent with test_feature_matrix\n",
        "    \"\"\"\n",
        "    rankings = []\n",
        "    all_cosine_similarities = []\n",
        "    pairwise_cosine_similarity = []\n",
        "    pairs = []\n",
        "    correct = 0\n",
        "    for i, target in enumerate(test_labels):\n",
        "        # compare the left out character against the mean\n",
        "        idx = i\n",
        "        fm_1 = test_feature_matrix.toarray()[idx]\n",
        "        all_sims = {}\n",
        "        # print(\"target:\", target)\n",
        "        for j, other in enumerate(train_labels):\n",
        "            fm_2 = train_feature_matrix.toarray()[j]\n",
        "            manual_cosine_similarity = compute_cosine_similarity(fm_1, fm_2)\n",
        "            pairs.append((target, other))\n",
        "            pairwise_cosine_similarity.append(manual_cosine_similarity)\n",
        "            if other == target:\n",
        "                all_cosine_similarities.append(manual_cosine_similarity)\n",
        "            all_sims[other] = manual_cosine_similarity\n",
        "\n",
        "            # print(target, other, manual_cosine_similarity)\n",
        "        sorted_similarities = sorted(all_sims.items(),key=lambda x:x[1],reverse=True)\n",
        "        # print(sorted_similarities)\n",
        "        ranking = {key[0]: rank for rank, key in enumerate(sorted_similarities, 1)}\n",
        "        # print(\"Ranking for target\", ranking[target])\n",
        "        if ranking[target] == 1:\n",
        "            correct += 1\n",
        "        rankings.append(ranking[target])\n",
        "        # print(\"*****\")\n",
        "    mean_rank = np.mean(rankings)\n",
        "    mean_cosine_similarity = np.mean(all_cosine_similarities)\n",
        "    accuracy = correct/len(test_labels)\n",
        "    print(\"mean rank\", np.mean(rankings))\n",
        "    print(\"mean cosine similarity\", mean_cosine_similarity)\n",
        "    print(correct, \"correct out of\", len(test_labels), \"/ accuracy:\", accuracy )\n",
        "\n",
        "    # get a dafaframe showing all the similarity scores of training vs test docs\n",
        "    df = pd.DataFrame({'doc1': [x[0] for x in pairs], 'doc2': [x[1] for x in pairs],\n",
        "                       'similarity': pairwise_cosine_similarity})\n",
        "\n",
        "    # display characters which are most similar and least similar\n",
        "    df.loc[[df.similarity.values.argmax(), df.similarity.values.argmin()]]\n",
        "    return (mean_rank, mean_cosine_similarity, accuracy, df)"
      ]
    },
    {
      "cell_type": "code",
      "execution_count": 39,
      "metadata": {
        "id": "aH5-MF2SjXen"
      },
      "outputs": [],
      "source": [
        "def plot_heat_map_similarity(df):\n",
        "    \"\"\"Takes a dataframe with header 'doc1, doc2, similarity'\n",
        "    Plots a heatmap based on the similarity scores.\n",
        "    \"\"\"\n",
        "    test_labels =  sorted(list(set(df.sort_values(['doc1'])['doc1'])))\n",
        "    # add padding 1.0 values to either side\n",
        "    cm = [[1.0,] * (len(test_labels)+2)]\n",
        "    for target in test_labels:\n",
        "        new_row = [1.0]\n",
        "        for x in df.sort_values(['doc1', 'doc2'])[df['doc1']==target]['similarity']:\n",
        "            new_row.append(x)\n",
        "        new_row.append(1.0)\n",
        "        cm.append(new_row)\n",
        "    cm.append([1.0,] * (len(test_labels)+2))\n",
        "    #print(cm)\n",
        "    labels = [\"\"] + test_labels + [\"\"]\n",
        "    fig = plt.figure(figsize=(20,20))\n",
        "    ax = fig.add_subplot(111)\n",
        "    cax = ax.matshow(cm)\n",
        "    plt.title('Similarity matrix between documents as vectors')\n",
        "    fig.colorbar(cax)\n",
        "    ax.set_xticks(np.arange(len(labels)))\n",
        "    ax.set_yticks(np.arange(len(labels)))\n",
        "    ax.set_xticklabels( labels, rotation=45)\n",
        "    ax.set_yticklabels( labels)\n",
        "\n",
        "    for i in range(len(cm)):\n",
        "        for j in range(len(cm)):\n",
        "\n",
        "            text = ax.text(j, i, round(cm[i][j],3),\n",
        "                           ha=\"center\", va=\"center\", color=\"w\")\n",
        "\n",
        "    plt.xlabel('Training Vector Doc')\n",
        "    plt.ylabel('Test Vector Doc')\n",
        "    #fig.tight_layout()\n",
        "    plt.show()"
      ]
    },
    {
      "cell_type": "code",
      "execution_count": 40,
      "metadata": {
        "colab": {
          "base_uri": "https://localhost:8080/"
        },
        "id": "I371ZpPZjXen",
        "outputId": "5e7af484-f4ab-4f45-e5d7-2d360aee0bf9"
      },
      "outputs": [
        {
          "output_type": "stream",
          "name": "stdout",
          "text": [
            "mean rank 1.2\n",
            "mean cosine similarity 0.9659802685491533\n",
            "8 correct out of 10 / accuracy: 0.8\n"
          ]
        }
      ],
      "source": [
        "mean_rank, mean_cosine_simliarity, acc, df = compute_IR_evaluation_scores(training_feature_matrix, val_feature_matrix, train_labels, val_labels)"
      ]
    },
    {
      "cell_type": "markdown",
      "source": [
        "# Q5. Analyse the similarity results (10 marks)\n",
        "\n",
        "**Solution-** We will refer `heat map` to identify the heldout character vectors ranked closest to each other character's training vector and those furthest away.\n",
        "\n",
        "The **Chandler & Joey and Ross & Joey are the closest characters**, the reason being highest similarity of 0.96 and 0.962 respectively. This implies that **Chandler and Joey** exhibit resemblances in their language patterns, engage in similar topics, or have interactions that result in similar representations of their dialogue.\n",
        "\n",
        "\n",
        "The Chandler & Rachel and Joey & Rachel are the furthest characters, the reason being highest similarity of 0.932 and 0.935 respectively.\n",
        "\n",
        "\n",
        "Various linguistic and contextual factors, including dialogue context, vocabulary, topics, interactions with other characters, amount of dialogue, and speech style, should be considered to determine the highest match between the target character in the training set and their vector in the held-out set. It's important to acknowledge model limitations, such as the choice of features (e.g., n-grams) and the vectorization technique (e.g., TF-IDF), which may not effectively capture the nuances required for character distinction.\n"
      ],
      "metadata": {
        "id": "ILF9BKnrh_Sz"
      }
    },
    {
      "cell_type": "code",
      "execution_count": 41,
      "metadata": {
        "colab": {
          "base_uri": "https://localhost:8080/",
          "height": 888
        },
        "id": "mXuVEBB8jXeo",
        "outputId": "fb4714f8-a62b-4546-c689-061aad4e8ac1"
      },
      "outputs": [
        {
          "output_type": "display_data",
          "data": {
            "text/plain": [
              "<Figure size 2000x2000 with 2 Axes>"
            ],
            "image/png": "[encoded data removed]"
          },
          "metadata": {}
        }
      ],
      "source": [
        "plot_heat_map_similarity(df)"
      ]
    },
    {
      "cell_type": "markdown",
      "source": [
        "# Q4. Parameter Search (15 marks)\n",
        "\n",
        "Solution 4- It is a good practice to conduct a systematic parameter search instead of a random search as this will give you more reliable results. The below code performs a `grid search` over a specified set of hyperparameters, attempting to find the combination that yields the best mean rank. It uses these hyperparameters to create a `TF-IDF vectorizer` and a `feature selector`, then evaluates the performance on a validation set. The best hyperparameters and their corresponding mean rank are printed at the end of the process.\n",
        "\n",
        "The params taken for grid search are:-\n",
        "\n",
        "param_grid = {\n",
        "    'k_best': [chi2],\n",
        "    'k_feature': [100, 200, 'all'],\n",
        "    'mindf': [5,10]\n",
        "}\n",
        "\n",
        "- k_best method i am using is chi2.\n",
        "- Feature for k_best will be 100, 200 and 'all'\n",
        "- mindf is min_df for TfidfVectorizer\n",
        "\n",
        "**Best hyperparametr that was found to be {'k_best': chi2, 'k_feature': 200, 'mindf': 5}**"
      ],
      "metadata": {
        "id": "5g3yDc6ecfkP"
      }
    },
    {
      "cell_type": "code",
      "source": [
        "from itertools import product\n",
        "from sklearn.linear_model import LogisticRegression\n",
        "from sklearn.metrics import accuracy_score\n",
        "from sklearn.model_selection import train_test_split\n",
        "\n",
        "param_grid = {\n",
        "    'k_best': [chi2],\n",
        "    'k_feature': [100, 200, 'all'],\n",
        "    'mindf': [5,10]\n",
        "}\n",
        "\n",
        "best_mean_rank = 5.0\n",
        "best_params = {}\n",
        "\n",
        "for params in product(*param_grid.values()):\n",
        "  hype = dict(zip(param_grid.keys(), params))\n",
        "\n",
        "  print(f'Running Grid Search for {hype}')\n",
        "  k_best,k_feature,mindf = hype.values()\n",
        "  try:\n",
        "    initial_vectorizer = TfidfVectorizer(min_df=mindf)\n",
        "    initial_selector = SelectKBest(k_best, k=k_feature)\n",
        "\n",
        "    train_feature_matrix_gs, vectorizer_trained, selector_trained = create_document_matrix_from_corpus(training_corpus, initial_vectorizer, initial_selector, fitting=True)\n",
        "    val_feature_matrix_gs,_,_ = create_document_matrix_from_corpus(val_corpus, vectorizer_trained, selector_trained, fitting=False)\n",
        "  except:\n",
        "    print(f'Error occurred for hyperparameter {hype}')\n",
        "\n",
        "  mean_rank_gs, mean_cosine_simliarity_gs, acc_gs, df_gs = compute_IR_evaluation_scores(train_feature_matrix_gs, val_feature_matrix_gs, train_labels, val_labels)\n",
        "\n",
        "  if mean_rank_gs < best_mean_rank:\n",
        "    best_mean_rank = mean_rank_gs\n",
        "    best_params = hype\n",
        "\n",
        "print()\n",
        "print(\"Best Accuracy\", best_mean_rank)\n",
        "print(\"Best Parameter\", best_params)\n",
        "\n"
      ],
      "metadata": {
        "colab": {
          "base_uri": "https://localhost:8080/"
        },
        "id": "VIVnZ0mXd91h",
        "outputId": "8c017740-23e0-4528-854c-082fb71c66e4"
      },
      "execution_count": 42,
      "outputs": [
        {
          "output_type": "stream",
          "name": "stdout",
          "text": [
            "Running Grid Search for {'k_best': <function chi2 at 0x7ff4bf6e1c60>, 'k_feature': 100, 'mindf': 5}\n",
            "mean rank 1.2\n",
            "mean cosine similarity 0.780081522584084\n",
            "8 correct out of 10 / accuracy: 0.8\n",
            "Running Grid Search for {'k_best': <function chi2 at 0x7ff4bf6e1c60>, 'k_feature': 100, 'mindf': 10}\n",
            "mean rank 3.4\n",
            "mean cosine similarity 0.850420072930827\n",
            "3 correct out of 10 / accuracy: 0.3\n",
            "Running Grid Search for {'k_best': <function chi2 at 0x7ff4bf6e1c60>, 'k_feature': 200, 'mindf': 5}\n",
            "mean rank 1.1\n",
            "mean cosine similarity 0.8270841383619759\n",
            "9 correct out of 10 / accuracy: 0.9\n",
            "Running Grid Search for {'k_best': <function chi2 at 0x7ff4bf6e1c60>, 'k_feature': 200, 'mindf': 10}\n",
            "mean rank 4.2\n",
            "mean cosine similarity 0.8356780732245823\n",
            "2 correct out of 10 / accuracy: 0.2\n",
            "Running Grid Search for {'k_best': <function chi2 at 0x7ff4bf6e1c60>, 'k_feature': 'all', 'mindf': 5}\n",
            "mean rank 1.2\n",
            "mean cosine similarity 0.9659802685491533\n",
            "8 correct out of 10 / accuracy: 0.8\n",
            "Running Grid Search for {'k_best': <function chi2 at 0x7ff4bf6e1c60>, 'k_feature': 'all', 'mindf': 10}\n",
            "mean rank 4.3\n",
            "mean cosine similarity 0.975450703832999\n",
            "2 correct out of 10 / accuracy: 0.2\n",
            "\n",
            "Best Accuracy 1.1\n",
            "Best Parameter {'k_best': <function chi2 at 0x7ff4bf6e1c60>, 'k_feature': 200, 'mindf': 5}\n"
          ]
        }
      ]
    },
    {
      "cell_type": "markdown",
      "metadata": {
        "id": "zIf3XP_0jXeo"
      },
      "source": [
        "# Q1. Improve pre-processing (20 marks)\n",
        "Using the pre-processing techniques you have learned in the module, improve the `pre_process` function above, which currently just tokenizes text based on white space.\n",
        "\n",
        "When developing, use the first 300 and 30 lines from the training and validation files, as per above. To check the improvements by using the different techniques, use the `compute_IR_evaluation_scores` function as above. The **mean rank** is the main metric you need to focus on improving throughout this assignment, where the target/best possible performance is **1** (i.e. all test/validation data character documents are closest to their corresponding training data character documents) and the worst is **10**. Initially, the code in this template achieves a mean rank of **4.0**  and accuracy of **0.3** on the test set and a mean rank of **4.2** and accuracy of **0.1** on the validation set - you should be looking to improve those, particularly getting the mean rank as close to 1 as possible.\n"
      ]
    },
    {
      "cell_type": "markdown",
      "metadata": {
        "id": "CV3H_ldCjXep"
      },
      "source": [
        "# Q2. Improve linguistic feature extraction (30 marks)\n",
        "Use the feature extraction techniques you have learned to improve the `to_feature_vector_dictionary` and `create_document_matrix_from_corpus` functions above. Examples of extra features could include extracting n-grams of different lengths and including POS tags. You could also use sentiment analysis or another text classifier's result when applied to the features for each character document. You could even use a gender classifier trained on the same data using the GENDER column **(but DO NOT USE the GENDER column directly in the features for the final vector)**.\n",
        "\n",
        "Matrix transformation techniques like TF-IDF (https://scikit-learn.org/stable/modules/generated/sklearn.feature_extraction.text.TfidfTransformer.html) are commonly used to improve the `create_document_matrix_from_corpus` function, which currently only uses a dictionary vectorizer (`DictVectorizer`) which straight-forwardly maps from the feature dictionaries produced for each character document to a sparse matrix.\n",
        "\n",
        "Other options include using feature selection/reduction with techniques like minimum/maximum document frequency and/or feature selection like k-best selection using different statistical tests https://scikit-learn.org/stable/modules/generated/sklearn.feature_selection.SelectKBest.html.\n",
        "\n",
        "Again, develop your system using the training and validation sets and note the effect/improvement in mean rank with the techniques you use."
      ]
    },
    {
      "cell_type": "markdown",
      "metadata": {
        "id": "L9R1p7k5jXep"
      },
      "source": [
        "# Q3. Add dialogue context and scene features (15 marks)\n",
        "Adjust `create_character_document_from_dataframe` and the other functions appropriately so the data incorporates the context of the line spoken by the characters in terms of the lines spoken by other characters in the same scene (before and after the target character's lines). HINT: you should use the *Episode* and *Scene* columns to check which characters are in the same scene to decide whether to include their lines or not. Only the lines from the same *Scene* can be added as the context as lines from different *Scene* are irrelevant.  **(but DO NOT USE the GENDER and CHARACTER columns directly)**."
      ]
    },
    {
      "cell_type": "markdown",
      "metadata": {
        "id": "gsIRnbTwjXeq"
      },
      "source": [
        "# Q4. Parameter Search (15 marks)\n",
        "It is a good practice to conduct a systematic parameter search instead of a random search as this will give you more\n",
        "reliable results. Given the scope of this assignment, it is possible to conduct a **grid search** on options you decided to try within the individual questions. The grid search should be done within the individual questions (i.e. Q1-Q3), and the later question should adopt the best settings from the previous questions. There is no need to do a grid search over all configurations from all questions as this will easily make the search unrealistic. E.g. Suppose we need 32, 90, and 4 runs to finish the grid search within questions, a cross-question grid search would need 32x90x4 = 11520 runs!                                                                      "
      ]
    },
    {
      "cell_type": "markdown",
      "metadata": {
        "jp-MarkdownHeadingCollapsed": true,
        "id": "GZI1euRcjXeq"
      },
      "source": [
        "# Q5. Analyse the similarity results (10 marks)\n",
        "From your system so far run on the training/validation sets, identify the heldout character vectors ranked closest to each character's training vector which are not the character themselves, and those furthest away, as displayed using the `plot_heat_map_similarity` function. In your report, try to ascribe reasons why this is the case, particularly for those where there isn't a successful highest match between the target character in the training set and that character's vector in the heldout set yet. Observations you could make include how their language use is similar, resulting in similar word or ngram features."
      ]
    },
    {
      "cell_type": "markdown",
      "metadata": {
        "id": "V2XeaXthjXeq"
      },
      "source": [
        "# Q6. Run on final test data  (10 marks)\n",
        "Test your best system using the code below to train on the training data (using the first 300 lines per character maximum) and do the final testing on the test file (using the first 30 lines per character maximum).\n",
        "\n",
        "Make any necessary adjustments such that it runs in the same way as the training/testing regime you developed above- e.g. making sure any transformer objects are initialized before `create_document_matrix_from_corpus` is called. Make sure your best system is left in the notebook and it is clear what the mean rank and accuracy of document selection are on the test data."
      ]
    },
    {
      "cell_type": "code",
      "execution_count": 43,
      "metadata": {
        "id": "wWeVTor7jXer",
        "outputId": "b08a5125-b662-479e-f37d-f73f349668a6",
        "colab": {
          "base_uri": "https://localhost:8080/"
        }
      },
      "outputs": [
        {
          "output_type": "stream",
          "name": "stdout",
          "text": [
            "Lines per character: {'#ALL#': 300, 'Chandler Bing': 300, 'Joey Tribbiani': 300, 'Monica Geller': 300, 'Other_None': 300, 'Phoebe Buffay': 300, 'Rachel Green': 300, 'Ross Geller': 300, 'Other_Female': 300, 'Other_Male': 300}\n",
            "Num. Characters:  10 \n",
            "\n",
            "#ALL# Number of Words:  32349\n",
            "Chandler Bing Number of Words:  29734\n",
            "Joey Tribbiani Number of Words:  31753\n",
            "Monica Geller Number of Words:  32742\n",
            "Other_None Number of Words:  28885\n",
            "Phoebe Buffay Number of Words:  31236\n",
            "Rachel Green Number of Words:  32927\n",
            "Ross Geller Number of Words:  29297\n",
            "Other_Female Number of Words:  33053\n",
            "Other_Male Number of Words:  30795\n",
            "total words 312771\n",
            "Lines per character: {'Chandler Bing': 30, 'Joey Tribbiani': 30, 'Ross Geller': 30, '#ALL#': 11, 'Other_Female': 30, 'Other_None': 30, 'Monica Geller': 30, 'Phoebe Buffay': 30, 'Rachel Green': 30, 'Other_Male': 30}\n",
            "Num. Characters:  10 \n",
            "\n",
            "Chandler Bing Number of Words:  2541\n",
            "Joey Tribbiani Number of Words:  2779\n",
            "Ross Geller Number of Words:  2751\n",
            "#ALL# Number of Words:  1118\n",
            "Other_Female Number of Words:  2706\n",
            "Other_None Number of Words:  2437\n",
            "Monica Geller Number of Words:  2254\n",
            "Phoebe Buffay Number of Words:  2537\n",
            "Rachel Green Number of Words:  2870\n",
            "Other_Male Number of Words:  2862\n",
            "total words 24855\n",
            "mean rank 1.1\n",
            "mean cosine similarity 0.8587978028259886\n",
            "9 correct out of 10 / accuracy: 0.9\n"
          ]
        }
      ],
      "source": [
        "# redo on training data with the first 300 character lines used\n",
        "train_character_docs = create_character_document_from_dataframe(train_data, max_lines_per_character=300)\n",
        "print('Num. Characters: ',len(train_character_docs.keys()),\"\\n\")\n",
        "total_words = 0\n",
        "for name in train_character_docs.keys():\n",
        "    print(name, 'Number of Words: ',len(train_character_docs[name].split()))\n",
        "    total_words += len(train_character_docs[name].split())\n",
        "print(\"total words\", total_words)\n",
        "\n",
        "training_corpus = [(name, pre_process(doc)) for name, doc in sorted(train_character_docs.items())]\n",
        "train_labels = [name for name, doc in training_corpus]\n",
        "\n",
        "corpusVectorizer = TfidfVectorizer(min_df=5)\n",
        "selector_fm = SelectKBest(chi2, k=200)\n",
        "training_feature_matrix, vectorizer, selector_fm_ret = create_document_matrix_from_corpus(training_corpus,corpusVectorizer, selector_fm, fitting=True)\n",
        "\n",
        "# get the test data using 40 lines per character\n",
        "test_character_docs = create_character_document_from_dataframe(test_data, max_lines_per_character=30)\n",
        "print('Num. Characters: ',len(test_character_docs.keys()),\"\\n\")\n",
        "total_words = 0\n",
        "for name in test_character_docs.keys():\n",
        "    print(name, 'Number of Words: ',len(test_character_docs[name].split()))\n",
        "    total_words += len(test_character_docs[name].split())\n",
        "print(\"total words\", total_words)\n",
        "\n",
        "# create list of pairs of (character name, pre-processed character)\n",
        "test_corpus = [(name, pre_process(doc)) for name, doc in sorted(test_character_docs.items())]\n",
        "test_labels = [name for name, doc in test_corpus]\n",
        "\n",
        "# Just transform the val_feature_matrix, don't fit\n",
        "test_feature_matrix, _, _ = create_document_matrix_from_corpus(test_corpus, vectorizer, selector_fm_ret, fitting=False)\n",
        "\n",
        "mean_rank, mean_cosine_simliarity, acc, df = compute_IR_evaluation_scores(training_feature_matrix, test_feature_matrix, train_labels, test_labels)"
      ]
    },
    {
      "cell_type": "code",
      "execution_count": 43,
      "metadata": {
        "id": "cO29Zt4XjXes"
      },
      "outputs": [],
      "source": []
    }
  ],
  "metadata": {
    "kernelspec": {
      "display_name": "Python 3 (ipykernel)",
      "language": "python",
      "name": "python3"
    },
    "language_info": {
      "codemirror_mode": {
        "name": "ipython",
        "version": 3
      },
      "file_extension": ".py",
      "mimetype": "text/x-python",
      "name": "python",
      "nbconvert_exporter": "python",
      "pygments_lexer": "ipython3",
      "version": "3.10.13"
    },
    "colab": {
      "provenance": []
    }
  },
  "nbformat": 4,
  "nbformat_minor": 0
}