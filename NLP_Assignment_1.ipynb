{
 "cells": [
  {
   "cell_type": "markdown",
   "metadata": {
    "id": "me2YTxd9rqt6"
   },
   "source": [
    "# NLP Assignment 1 (40% of grade): Sentiment Analysis from Tweets\n",
    "\n",
    "This coursework will involve you implementing functions for a text classifier, which you will train to identify the **sentiment expressed in a text** in a dataset of approx. 27,000 entries, which will be split into a 80%/20% training/test split.\n",
    "\n",
    "In this template you are given the basis for that implementation, though some of the functions are missing, which you have to fill in.\n",
    "\n",
    "Follow the instructions file **NLP_Assignment_1_Instructions.pdf** for details of each question - the outline of what needs to be achieved for each question is as below.\n",
    "\n",
    "You must submit all **ipython notebooks and extra resources you need to run the code if you've added them** in the code submission, and a **2 page report (pdf)** in the report submission on QMPlus where you report your methods and findings according to the instructions file for each question."
   ]
  },
  {
   "cell_type": "code",
   "execution_count": 71,
   "metadata": {},
   "outputs": [
    {
     "name": "stdout",
     "output_type": "stream",
     "text": [
      "Requirement already satisfied: nltk in /opt/conda/lib/python3.10/site-packages (3.8.1)\n",
      "Requirement already satisfied: click in /opt/conda/lib/python3.10/site-packages (from nltk) (8.1.7)\n",
      "Requirement already satisfied: joblib in /opt/conda/lib/python3.10/site-packages (from nltk) (1.3.2)\n",
      "Requirement already satisfied: regex>=2021.8.3 in /opt/conda/lib/python3.10/site-packages (from nltk) (2023.10.3)\n",
      "Requirement already satisfied: tqdm in /opt/conda/lib/python3.10/site-packages (from nltk) (4.66.1)\n"
     ]
    }
   ],
   "source": [
    "!pip install nltk"
   ]
  },
  {
   "cell_type": "code",
   "execution_count": 72,
   "metadata": {
    "id": "CK6N3ZLKrquC"
   },
   "outputs": [],
   "source": [
    "import csv                              \n",
    "from sklearn.svm import LinearSVC\n",
    "from nltk.classify import SklearnClassifier\n",
    "from sklearn.pipeline import Pipeline\n",
    "from sklearn.metrics import precision_recall_fscore_support # to report on precision and recall\n",
    "import numpy as np\n",
    "from sklearn.feature_extraction.text import CountVectorizer\n"
   ]
  },
  {
   "cell_type": "code",
   "execution_count": 73,
   "metadata": {
    "id": "g6X5B_jUrquH"
   },
   "outputs": [],
   "source": [
    "def load_data(path):\n",
    "    \"\"\"Load data from a tab-separated file and append it to raw_data.\"\"\"\n",
    "    with open(path) as f:\n",
    "        reader = csv.reader(f, delimiter='\\t')\n",
    "        for line in reader:\n",
    "            if line[0] == \"Id\":  # skip header\n",
    "                continue\n",
    "            (label, text) = parse_data_line(line)\n",
    "            raw_data.append((text, label))\n",
    "\n",
    "def split_and_preprocess_data(percentage):\n",
    "    \"\"\"Split the data between train_data and test_data according to the percentage\n",
    "    and performs the preprocessing.\"\"\"\n",
    "    num_samples = len(raw_data)\n",
    "    num_training_samples = int((percentage * num_samples))\n",
    "    for (text, label) in raw_data[:num_training_samples]:\n",
    "        train_data.append((to_feature_vector(pre_process(text)),label))\n",
    "    for (text, label) in raw_data[num_training_samples:]:\n",
    "        test_data.append((to_feature_vector(pre_process(text)),label))"
   ]
  },
  {
   "cell_type": "markdown",
   "metadata": {
    "id": "YWfWyx97rquI"
   },
   "source": [
    "# Question 1: Input and Basic preprocessing (10 marks)"
   ]
  },
  {
   "cell_type": "code",
   "execution_count": 74,
   "metadata": {
    "id": "1nXE2bBNrquK"
   },
   "outputs": [
    {
     "name": "stdout",
     "output_type": "stream",
     "text": [
      "('positive', 'London is a good city')\n",
      "None\n"
     ]
    }
   ],
   "source": [
    "def parse_data_line(data_line):\n",
    "    if len(data_line) >= 3:\n",
    "        return (data_line[1], data_line[2])\n",
    "\n",
    "\n",
    "# Unit testing this function\n",
    "# Test Case 1 - Positive Test Case\n",
    "test_case_1 = parse_data_line(['1234ID', 'positive', 'London is a good city'])\n",
    "print(test_case_1)\n",
    "assert test_case_1 == ('positive', 'London is a good city')\n",
    "\n",
    "# Test Case 2 - Negative Test (when data_line does not have sufficient elements)\n",
    "'''\n",
    "This illustrates that the system will not process any line from the file \n",
    "that does not have at least three tab-separated data. Also, I am looking at the pattern\n",
    "of the file I am assuming the second column will be labeled and the third column will be tested.\n",
    "'''\n",
    "test_case_2 = parse_data_line(['1234ID', 'London is a good city'])\n",
    "print(test_case_2)\n",
    "assert test_case_2 == None\n",
    "\n"
   ]
  },
  {
   "cell_type": "code",
   "execution_count": 75,
   "metadata": {
    "colab": {
     "base_uri": "https://localhost:8080/"
    },
    "id": "-BOdMB-yrquL",
    "outputId": "ea65b81b-0256-4544-d666-9b6981627a7c"
   },
   "outputs": [
    {
     "name": "stdout",
     "output_type": "stream",
     "text": [
      "['i', 'love', 'india', ',', 'and', 'it', 'is', 'very', 'beautiful', 'country', '.']\n",
      "['i', 'love', 'india', ',', 'and', 'india', 'is', 'very', 'beautiful', 'country', '.']\n"
     ]
    }
   ],
   "source": [
    "import regex as re\n",
    "\n",
    "# Input: a string of one statement\n",
    "def pre_process(text):\n",
    "    '''\n",
    "    After doing a sentence segmentation, we want to extract tokens from a sentence.\n",
    "    This method takes a string (sentence) and returns all the tokens. Tokens are\n",
    "    nothing but words.\n",
    "    '''\n",
    "\n",
    "    # We are separating any punctuation symbols from the end and the beginning.\n",
    "    # This will be helpful in subsequent filtering of tokens where we do/don't require punctuation as per our need.\n",
    "    text = re.sub(r\"(\\w)([.,;:!?'\\\"”\\)])\", r\"\\1 \\2\", text)\n",
    "    text = re.sub(r\"([.,;:!?'\\\"“\\(\\)])(\\w)\", r\"\\1 \\2\", text)\n",
    "\n",
    "    # Now, we can just split the sentence by whitespace.\n",
    "    tokens = re.split(r\"\\s+\",text)\n",
    "    \n",
    "    # Normalisation - transform all the tokens in lowercase because different cases \n",
    "    # might be inferred as a different feature that we don't want\n",
    "    tokens = [t.lower() for t in tokens]\n",
    "\n",
    "    # NOTE: More optimization is done in the second Notebook file wrt Question 5\n",
    "    return tokens\n",
    "\n",
    "\n",
    "# Unit testing this function\n",
    "# Test Case 1 - Positive Test Case\n",
    "processed_text = pre_process(\"I love India, and it is very beautiful country.\")\n",
    "print(processed_text)\n",
    "assert processed_text == ['i', 'love', 'india', ',', 'and', 'it', 'is', 'very', 'beautiful', 'country', '.']\n",
    "\n",
    "# Test Case 2 - Positive Test Case (repeated words)\n",
    "processed_text = pre_process(\"I love India, and India is very beautiful country.\")\n",
    "print(processed_text)\n",
    "assert processed_text == ['i', 'love', 'india', ',', 'and', 'india', 'is', 'very', 'beautiful', 'country', '.']\n",
    "\n",
    "# NOTE: - This method is optimized further in NLP_Assignment_2.ipynb\n"
   ]
  },
  {
   "cell_type": "markdown",
   "metadata": {
    "id": "cabadEyerquN"
   },
   "source": [
    "# Question 2: Basic Feature Extraction (20 marks)"
   ]
  },
  {
   "cell_type": "code",
   "execution_count": 76,
   "metadata": {
    "id": "hx-dcZODrquO"
   },
   "outputs": [
    {
     "name": "stdout",
     "output_type": "stream",
     "text": [
      "{'i': 1, 'study': 1, 'in': 1, 'queen': 1, 'mary': 1, 'university': 1, 'of': 1, 'london': 1}\n",
      "{'i': 1, 'study': 1, 'in': 1, 'queen': 1, 'mary': 1, 'university': 1, 'of': 1, 'london': 1}\n"
     ]
    }
   ],
   "source": [
    "from collections import Counter\n",
    "\n",
    "global_feature_dict = Counter() # bag of words\n",
    "\n",
    "def to_feature_vector(tokens):\n",
    "\n",
    "    \"\"\"\n",
    "    Convert tokens to a feature vector.\n",
    "    Parameters:\n",
    "    - string tokens of a sentence.\n",
    "    Returns:\n",
    "    - feature_vector: Python dictionary with tokens as keys and corresponding weights as values.\n",
    "    \"\"\"\n",
    "\n",
    "    # This will count the frequency of the words\n",
    "    feature_counter = Counter(tokens)\n",
    "\n",
    "    # Updating the global_feature_dict, which represents the bag of words and their occurrence. \n",
    "    global_feature_dict.update(feature_counter.keys())\n",
    "\n",
    "    # Using binary feature value ie will give weight as 1 for the token present\n",
    "    feature_vector = {feature: 1 for feature in feature_counter}\n",
    "    return feature_vector\n",
    "\n",
    "# NOTE: - This method is optimized further in NLP_Assignment_2.ipynb\n",
    "\n",
    "# Unit testing this function\n",
    "# Test Case 1 - Positive Test Case\n",
    "token = pre_process(\"I study in Queen mary university of London\")\n",
    "test_case_1_result = to_feature_vector(token) \n",
    "print(test_case_1_result)\n",
    "assert test_case_1_result == {'i': 1, 'study': 1, 'in': 1, 'queen': 1, 'mary': 1, 'university': 1, 'of': 1, 'london': 1}\n",
    "assert global_feature_dict == {'i': 1, 'study': 1, 'in': 1, 'queen': 1, 'mary': 1, 'university': 1, 'of': 1, 'london': 1}\n",
    "\n",
    "# Test Case 1 - Positive Test Case\n",
    "token = pre_process(\"NLP is my favorite subject\")\n",
    "test_case_2_result = to_feature_vector(token) \n",
    "print(test_case_1_result)\n",
    "assert test_case_2_result == {'nlp': 1, 'is': 1, 'my': 1, 'favorite': 1, 'subject': 1}\n",
    "assert global_feature_dict == {'i': 1, 'study': 1, 'in': 1, 'queen': 1, 'mary': 1, 'university': 1, 'of': 1, 'london': 1, 'nlp': 1, 'is': 1, 'my': 1, 'favorite': 1, 'subject': 1}\n"
   ]
  },
  {
   "cell_type": "code",
   "execution_count": 77,
   "metadata": {
    "id": "uqmw8_ozrquO"
   },
   "outputs": [],
   "source": [
    "# TRAINING AND VALIDATING OUR CLASSIFIER\n",
    "\n",
    "def train_classifier(data):\n",
    "    # print(\"Training Classifier...\")\n",
    "    pipeline =  Pipeline([('svc', LinearSVC(dual=True))])\n",
    "    return SklearnClassifier(pipeline).train(data)\n"
   ]
  },
  {
   "cell_type": "markdown",
   "metadata": {
    "id": "FSSLbytGrquP"
   },
   "source": [
    "# Question 3: Cross-validation (20 marks)"
   ]
  },
  {
   "cell_type": "code",
   "execution_count": 78,
   "metadata": {
    "id": "knArjUUMrquQ"
   },
   "outputs": [],
   "source": [
    "# PREDICTING LABELS GIVEN A CLASSIFIER\n",
    "\n",
    "def predict_labels(samples, classifier):\n",
    "    \"\"\"Assuming preprocessed samples, return their predicted labels from the classifier model.\"\"\"\n",
    "    return classifier.classify_many(samples)\n",
    "\n",
    "def predict_label_from_raw(sample, classifier):\n",
    "    \"\"\"Assuming raw text, return its predicted label from the classifier model.\"\"\"\n",
    "    return classifier.classify(to_feature_vector(pre_process(sample)))"
   ]
  },
  {
   "cell_type": "code",
   "execution_count": 79,
   "metadata": {
    "id": "yqAoUPvYrquQ"
   },
   "outputs": [],
   "source": [
    "#solution\n",
    "from sklearn.metrics import classification_report\n",
    "import numpy as np\n",
    "\n",
    "cv_results = {}\n",
    "label_for_train_data = []\n",
    "prediction_label = []\n",
    "def cross_validate(dataset, folds):\n",
    "    results = []\n",
    "    fold_size = int(len(dataset)/folds) + 1\n",
    "\n",
    "    for i in range(0,len(dataset),int(fold_size)):\n",
    "        print(\"Fold start on items %d - %d\" % (i, i+fold_size))\n",
    "\n",
    "        # test and train dataset preparation\n",
    "        test_data_fold = dataset[i:i + fold_size]\n",
    "        train_data_fold = dataset[:i] + dataset[i + fold_size:]\n",
    "\n",
    "        count_of_positive_label = [label for text, label in train_data_fold if label == 'positive']\n",
    "        count_of_negative_label = [label for text, label in train_data_fold if label == 'negative']\n",
    "        \n",
    "        # features (X) and labels (y) from the training dataset and training of the classifier model\n",
    "        feature_for_train_data = [train_text for train_text, train_label in train_data_fold]\n",
    "        label_for_train_data = [train_label for train_text, train_label in train_data_fold]\n",
    "        classifier = train_classifier(list(zip(feature_for_train_data, label_for_train_data)))\n",
    "\n",
    "        # features (X) and labels (y) from the testing dataset and predicting labels using the classifier model\n",
    "        feature_for_test_data = [test_text for test_text, test_label in test_data_fold]\n",
    "        label_for_test_data = [test_label for test_text, test_label in test_data_fold]\n",
    "        prediction_label = [predict_labels(text, classifier) for text in feature_for_test_data]\n",
    "\n",
    "        '''\n",
    "        Once we have predicted the labels for the test data, we can measure the drift between the labels given for the \n",
    "        test data and the labels predicted for the test data.\n",
    "\n",
    "        As given in the question we will be calculating precision, recall, f1 score, and accuracy\n",
    "        '''\n",
    "        precision_metric, recall_metric, f1_metric, _ = precision_recall_fscore_support(label_for_test_data, prediction_label, average='weighted') # evaluate\n",
    "        accuracy_metric = accuracy_score(label_for_test_data, prediction_label)\n",
    "\n",
    "        # Store results for this fold\n",
    "        results.append({\n",
    "            'precision': precision_metric,\n",
    "            'recall': recall_metric,\n",
    "            'f1': f1_metric,\n",
    "            'accuracy': accuracy_metric\n",
    "        })\n",
    "\n",
    "    cv_results = {\n",
    "            'precision': np.mean([d[\"precision\"] for d in results]),\n",
    "            'recall': np.mean([d[\"recall\"] for d in results]),\n",
    "            'f1': np.mean([d[\"f1\"] for d in results]),\n",
    "            'accuracy': np.mean([d[\"accuracy\"] for d in results])}\n",
    "    return cv_results\n"
   ]
  },
  {
   "cell_type": "code",
   "execution_count": 80,
   "metadata": {
    "colab": {
     "base_uri": "https://localhost:8080/"
    },
    "id": "g3FmiAovrquR",
    "outputId": "1015b6bc-31a1-4bb1-d4d4-2545219980d9"
   },
   "outputs": [
    {
     "name": "stdout",
     "output_type": "stream",
     "text": [
      "Now 0 rawData, 0 trainData, 0 testData\n",
      "Preparing the dataset...\n",
      "Now 33540 rawData, 0 trainData, 0 testData\n",
      "Preparing training and test data...\n",
      "After split, 33540 rawData, 26832 trainData, 6708 testData\tTraining Samples: \t26832\tFeatures: \t64641\n"
     ]
    }
   ],
   "source": [
    "# MAIN\n",
    "from sklearn.metrics import precision_score, recall_score, f1_score, accuracy_score\n",
    "\n",
    "# loading reviews\n",
    "# initialize global lists that will be appended to by the methods below\n",
    "raw_data = []          # the filtered data from the dataset file\n",
    "train_data = []        # the pre-processed training data as a percentage of the total dataset\n",
    "test_data = []         # the pre-processed test data as a percentage of the total dataset\n",
    "\n",
    "# references to the data files\n",
    "data_file_path = 'sentiment-dataset.tsv'\n",
    "\n",
    "# Do the actual stuff (i.e. call the functions we've made)\n",
    "# We parse the dataset and put it in a raw data list\n",
    "print(\"Now %d rawData, %d trainData, %d testData\" % (len(raw_data), len(train_data), len(test_data)),\n",
    "      \"Preparing the dataset...\",sep='\\n')\n",
    "\n",
    "load_data(data_file_path)\n",
    "\n",
    "# We split the raw dataset into a set of training data and a set of test data (80/20)\n",
    "# You do the cross validation on the 80% (training data)\n",
    "# We print the number of training samples and the number of features before the split\n",
    "print(\"Now %d rawData, %d trainData, %d testData\" % (len(raw_data), len(train_data), len(test_data)),\n",
    "      \"Preparing training and test data...\",sep='\\n')\n",
    "\n",
    "split_and_preprocess_data(0.8)\n",
    "\n",
    "# We print the number of training samples and the number of features after the split\n",
    "print(\"After split, %d rawData, %d trainData, %d testData\" % (len(raw_data), len(train_data), len(test_data)),\n",
    "      \"Training Samples: \", len(train_data), \"Features: \", len(global_feature_dict), sep='\\t')\n",
    "\n"
   ]
  },
  {
   "cell_type": "code",
   "execution_count": 81,
   "metadata": {
    "colab": {
     "base_uri": "https://localhost:8080/"
    },
    "id": "ASNvebK3rquR",
    "outputId": "59ce66c4-c453-475e-8493-6fa0044a4f16"
   },
   "outputs": [
    {
     "name": "stdout",
     "output_type": "stream",
     "text": [
      "Fold start on items 0 - 2684\n",
      "Fold start on items 2684 - 5368\n",
      "Fold start on items 5368 - 8052\n",
      "Fold start on items 8052 - 10736\n",
      "Fold start on items 10736 - 13420\n",
      "Fold start on items 13420 - 16104\n",
      "Fold start on items 16104 - 18788\n",
      "Fold start on items 18788 - 21472\n",
      "Fold start on items 21472 - 24156\n",
      "Fold start on items 24156 - 26840\n"
     ]
    },
    {
     "data": {
      "text/plain": [
       "{'precision': 0.8470426013416796,\n",
       " 'recall': 0.848318441342039,\n",
       " 'f1': 0.8473022431744743,\n",
       " 'accuracy': 0.848318441342039}"
      ]
     },
     "execution_count": 81,
     "metadata": {},
     "output_type": "execute_result"
    }
   ],
   "source": [
    "cross_validate(train_data, 10)  # will work and output overall performance of p, r, f-score when cv implemented"
   ]
  },
  {
   "cell_type": "markdown",
   "metadata": {
    "id": "ldga7SpQrquS"
   },
   "source": [
    "# Question 4: Error Analysis (20 marks)"
   ]
  },
  {
   "cell_type": "code",
   "execution_count": 82,
   "metadata": {
    "id": "dCr1r7ggrquS"
   },
   "outputs": [
    {
     "data": {
      "image/png": "[encoded data removed]",
      "text/plain": [
       "<Figure size 500x500 with 2 Axes>"
      ]
     },
     "metadata": {},
     "output_type": "display_data"
    },
    {
     "name": "stdout",
     "output_type": "stream",
     "text": [
      "Recall of negative class = 0.7212713936430318, Precesion of negative class = 0.7887700534759359\n",
      "Recall of positive class = 0.9153269024651661, Precesion of positive class = 0.8822314049586777\n",
      "**** Writing FALSE POSITIVE and FALSE NEGATIVE detection (ref: fp_fn_initially.csv)****\n"
     ]
    }
   ],
   "source": [
    "import csv\n",
    "from sklearn import metrics\n",
    "import matplotlib.pyplot as plt\n",
    "\n",
    "# a function to make the confusion matrix readable and pretty\n",
    "def confusion_matrix_heatmap(y_test, preds, labels):\n",
    "    \"\"\"Function to plot a confusion matrix\"\"\"\n",
    "    # pass labels to the confusion matrix function to ensure right order\n",
    "    # cm = metrics.confusion_matrix(y_test, preds, labels)\n",
    "    cm = metrics.confusion_matrix(y_test, preds, labels=labels)\n",
    "    fig = plt.figure(figsize=(5,5))\n",
    "    ax = fig.add_subplot(111)\n",
    "    cax = ax.matshow(cm)\n",
    "    plt.title('Confusion matrix of the classifier')\n",
    "    fig.colorbar(cax)\n",
    "    ax.set_xticks(np.arange(len(labels)))\n",
    "    ax.set_yticks(np.arange(len(labels)))\n",
    "    ax.set_xticklabels( labels, rotation=45)\n",
    "    ax.set_yticklabels( labels)\n",
    "\n",
    "    for i in range(len(cm)):\n",
    "        for j in range(len(cm)):\n",
    "            text = ax.text(j, i, cm[i, j],\n",
    "                           ha=\"center\", va=\"center\", color=\"w\")\n",
    "\n",
    "    plt.xlabel('Predicted')\n",
    "    plt.ylabel('True')\n",
    "\n",
    "    # fix for mpl bug that cuts off top/bottom of seaborn viz:\n",
    "    b, t = plt.ylim() # discover the values for bottom and top\n",
    "    plt.ylim(b, t) # update the ylim(bottom, top) values\n",
    "    plt.show() # ta-da!\n",
    "    plt.show()\n",
    "\n",
    "    return cm\n",
    "\n",
    "def write_csv(file_name):\n",
    "    '''\n",
    "    This function calculates and writes False Positive and False Negative cases onto a CSV file.\n",
    "\n",
    "    Parameter:\n",
    "        Takes a file name as input\n",
    "    '''\n",
    "    cases_for_fp_fn = []        \n",
    "    for text, expected, actual in zip(text_for_test_data, label_for_test_data, prediction_label):\n",
    "        if expected == actual:\n",
    "            continue\n",
    "            \n",
    "        cases_for_fp_fn.append([expected, actual, text])\n",
    "    \n",
    "    with open(file_name, mode='w', newline='') as file:\n",
    "        writer = csv.writer(file)\n",
    "        \n",
    "        # Write each row in the data list\n",
    "        for r in cases_for_fp_fn:\n",
    "            writer.writerow(r)\n",
    "\n",
    "\n",
    "'''\n",
    "To look at the performance of the classes we will use the above function and\n",
    "pass labels for the test data and predicted labels to see what the balance of \n",
    "false positives and false negatives for the positive and negative labels. \n",
    "'''\n",
    "\n",
    "'''\n",
    "Fetching a single fold data to carry out an error analysis for the first part \n",
    "of 10-fold data.\n",
    "'''\n",
    "fold_size = int(len(train_data)/10) + 1\n",
    "first_fold_test_data = train_data[:fold_size]\n",
    "first_fold_train_data = train_data[fold_size:]\n",
    "\n",
    "feature_for_train_data = [text for text, label in first_fold_train_data]\n",
    "label_for_train_data = [label for text, label in first_fold_train_data]\n",
    "classifier = train_classifier(list(zip(feature_for_train_data, label_for_train_data)))\n",
    "\n",
    "text_for_test_data = [text for text, label in first_fold_test_data]\n",
    "label_for_test_data = [label for text, label in first_fold_test_data]\n",
    "prediction_label = [classifier.classify(text) for text in text_for_test_data]\n",
    "\n",
    "# Invoking confusion_matrix_heatmap for the first part of 10-fold data\n",
    "cm_data = confusion_matrix_heatmap(label_for_test_data, prediction_label, labels=['positive', 'negative'])\n",
    "\n",
    "# Values for confusion metrics\n",
    "tp = cm_data[0][0]\n",
    "fn = cm_data[0][1]\n",
    "fp = cm_data[1][0]\n",
    "tn = cm_data[1][1]\n",
    "\n",
    "# Calculating recall/sensitivity for negative and positive\n",
    "recall_of_negative = tn / (tn + fp)\n",
    "recall_of_positive = tp / (tp + fn)\n",
    "\n",
    "# Calculating precision for negative and positive\n",
    "prec_of_negative = tn / (tn + fn) \n",
    "prec_of_positive = tp / (tp + fp) \n",
    "\n",
    "print('Recall of negative class = {}, Precesion of negative class = {}'.format(recall_of_negative, prec_of_negative))\n",
    "print('Recall of positive class = {}, Precesion of positive class = {}'.format(recall_of_positive, prec_of_positive))\n",
    "\n",
    "print('**** Writing FALSE POSITIVE and FALSE NEGATIVE detection (ref: fp_fn_initially.csv)****')\n",
    "write_csv(\"fp_fn_initially.csv\") \n"
   ]
  },
  {
   "cell_type": "markdown",
   "metadata": {
    "id": "8PACRsitrquS"
   },
   "source": [
    "# Questions 5: Optimising pre-processing and feature extraction (30 marks)\n",
    "Ref- NLP_Assignment_2.ipynb"
   ]
  },
  {
   "cell_type": "markdown",
   "metadata": {
    "id": "cu68DtdrrquS"
   },
   "source": [
    "**Note:** it is advisable to implement question 5 in a separate notebook where you further develop the pre-processing and feature extraction functions you implemented above."
   ]
  },
  {
   "cell_type": "code",
   "execution_count": 83,
   "metadata": {
    "colab": {
     "base_uri": "https://localhost:8080/"
    },
    "id": "hhls-X85rquS",
    "outputId": "c998f50e-d2b4-4ceb-f061-d6459b1dcff0"
   },
   "outputs": [
    {
     "name": "stdout",
     "output_type": "stream",
     "text": [
      "({'tomorrow': 1, 'we': 1, \"'\": 1, 'll': 1, 'release': 1, 'our': 1, '58th': 1, 'episode': 1, 'of': 1, '#hsonair': 1, 'profiling': 1, 'very': 1, 'own': 1, '@alissadossantos': 1, '!': 1, 'talk': 1, 'about': 1, 'storytelling': 1, 'and': 1, 'beyonce': 1}, 'positive')\n",
      "(0.8525944778240879, 0.8537567084078712, 0.8529661074716973, None)\n",
      "Done training!\n",
      "Precision: 0.852594\n",
      "Recall: 0.853757\n",
      "F Score:0.852966\n"
     ]
    },
    {
     "data": {
      "image/png": "[encoded data removed]",
      "text/plain": [
       "<Figure size 500x500 with 2 Axes>"
      ]
     },
     "metadata": {},
     "output_type": "display_data"
    }
   ],
   "source": [
    "# Finally, check the accuracy of your classifier by training on all the training data\n",
    "# and testing on the test set\n",
    "# Will only work once all functions are complete\n",
    "functions_complete = True  # set to True once you're happy with your methods for cross-val\n",
    "if functions_complete:\n",
    "    print(test_data[0])   # have a look at the first test data instance\n",
    "    classifier = train_classifier(train_data)  # train the classifier\n",
    "    test_true = [t[1] for t in test_data]   # get the ground-truth labels from the data\n",
    "    test_pred = predict_labels([x[0] for x in test_data], classifier)  # classify the test data to get predicted labels\n",
    "    final_scores = precision_recall_fscore_support(test_true, test_pred, average='weighted') # evaluate\n",
    "    print(final_scores)\n",
    "    print(\"Done training!\")\n",
    "    print(\"Precision: %f\\nRecall: %f\\nF Score:%f\" % final_scores[:3])\n",
    "    confusion_matrix_heatmap(test_true, test_pred, labels=['positive', 'negative'])\n"
   ]
  },
  {
   "cell_type": "code",
   "execution_count": null,
   "metadata": {
    "id": "3bcCgKztrquT"
   },
   "outputs": [],
   "source": []
  },
  {
   "cell_type": "code",
   "execution_count": null,
   "metadata": {
    "id": "mUQz8YcwrquT"
   },
   "outputs": [],
   "source": []
  }
 ],
 "metadata": {
  "colab": {
   "provenance": []
  },
  "kernelspec": {
   "display_name": "Python 3 (ipykernel)",
   "language": "python",
   "name": "python3"
  },
  "language_info": {
   "codemirror_mode": {
    "name": "ipython",
    "version": 3
   },
   "file_extension": ".py",
   "mimetype": "text/x-python",
   "name": "python",
   "nbconvert_exporter": "python",
   "pygments_lexer": "ipython3",
   "version": "3.10.13"
  }
 },
 "nbformat": 4,
 "nbformat_minor": 4
}
