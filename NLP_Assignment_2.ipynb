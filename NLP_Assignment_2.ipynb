{
 "cells": [
  {
   "cell_type": "markdown",
   "metadata": {
    "id": "me2YTxd9rqt6"
   },
   "source": [
    "# NLP Assignment 1 (40% of grade): Sentiment Analysis from Tweets\n",
    "\n",
    "This coursework will involve you implementing functions for a text classifier, which you will train to identify the **sentiment expressed in a text** in a dataset of approx. 27,000 entries, which will be split into a 80%/20% training/test split.\n",
    "\n",
    "In this template you are given the basis for that implementation, though some of the functions are missing, which you have to fill in.\n",
    "\n",
    "Follow the instructions file **NLP_Assignment_1_Instructions.pdf** for details of each question - the outline of what needs to be achieved for each question is as below.\n",
    "\n",
    "You must submit all **ipython notebooks and extra resources you need to run the code if you've added them** in the code submission, and a **2 page report (pdf)** in the report submission on QMPlus where you report your methods and findings according to the instructions file for each question."
   ]
  },
  {
   "cell_type": "markdown",
   "metadata": {
    "id": "8PACRsitrquS"
   },
   "source": [
    "# Questions 5: Optimising pre-processing and feature extraction (30 marks)"
   ]
  },
  {
   "cell_type": "code",
   "execution_count": 214,
   "metadata": {},
   "outputs": [
    {
     "name": "stdout",
     "output_type": "stream",
     "text": [
      "Requirement already satisfied: nltk in /opt/conda/lib/python3.10/site-packages (3.8.1)\n",
      "Requirement already satisfied: click in /opt/conda/lib/python3.10/site-packages (from nltk) (8.1.7)\n",
      "Requirement already satisfied: joblib in /opt/conda/lib/python3.10/site-packages (from nltk) (1.3.2)\n",
      "Requirement already satisfied: regex>=2021.8.3 in /opt/conda/lib/python3.10/site-packages (from nltk) (2023.10.3)\n",
      "Requirement already satisfied: tqdm in /opt/conda/lib/python3.10/site-packages (from nltk) (4.66.1)\n"
     ]
    }
   ],
   "source": [
    "!pip install nltk"
   ]
  },
  {
   "cell_type": "code",
   "execution_count": 215,
   "metadata": {
    "id": "CK6N3ZLKrquC"
   },
   "outputs": [
    {
     "name": "stderr",
     "output_type": "stream",
     "text": [
      "[nltk_data] Downloading package stopwords to /home/jovyan/nltk_data...\n",
      "[nltk_data]   Package stopwords is already up-to-date!\n",
      "[nltk_data] Downloading package wordnet to /home/jovyan/nltk_data...\n",
      "[nltk_data]   Package wordnet is already up-to-date!\n"
     ]
    }
   ],
   "source": [
    "import nltk\n",
    "import string\n",
    "nltk.download('stopwords')\n",
    "nltk.download('wordnet')\n",
    "\n",
    "from sklearn.svm import LinearSVC\n",
    "from nltk.classify import SklearnClassifier\n",
    "from sklearn.pipeline import Pipeline\n",
    "from sklearn.metrics import precision_recall_fscore_support # to report on precision and recall\n",
    "from sklearn.feature_extraction.text import CountVectorizer\n",
    "import numpy as np\n",
    "import regex as re\n",
    "import csv    "
   ]
  },
  {
   "cell_type": "code",
   "execution_count": 216,
   "metadata": {
    "id": "g6X5B_jUrquH"
   },
   "outputs": [
    {
     "name": "stdout",
     "output_type": "stream",
     "text": [
      "Counter({'a': 2, 'b': 1, 'c': 1})\n"
     ]
    }
   ],
   "source": [
    "from collections import Counter\n",
    "\n",
    "def load_data(path):\n",
    "    \"\"\"Load data from a tab-separated file and append it to raw_data.\"\"\"\n",
    "    with open(path) as f:\n",
    "        reader = csv.reader(f, delimiter='\\t')\n",
    "        for line in reader:\n",
    "            if line[0] == \"Id\":  # skip header\n",
    "                continue\n",
    "            (label, text) = parse_data_line(line)\n",
    "            raw_data.append((text, label))\n",
    "\n",
    "def split_and_preprocess_data(percentage):\n",
    "    \"\"\"Split the data between train_data and test_data according to the percentage\n",
    "    and performs the preprocessing.\"\"\"\n",
    "    num_samples = len(raw_data)\n",
    "    num_training_samples = int((percentage * num_samples))\n",
    "\n",
    "    n_of_words_per_sentance_train = []\n",
    "    n_of_words_per_sentance_test = []\n",
    "\n",
    "    global_feature_dict_positive = Counter()\n",
    "    global_feature_dict_negative = Counter()\n",
    "\n",
    "    for (text, label) in raw_data[:num_training_samples]:\n",
    "        tokens = pre_process(text)\n",
    "        n_of_words_per_sentance_train.append(len(tokens))\n",
    "        fv = to_feature_vector_weighted(tokens)\n",
    "        train_data.append((fv,label))\n",
    "        update_bag_of_words(label, fv, global_feature_dict_positive, global_feature_dict_negative)\n",
    "        \n",
    "    for (text, label) in raw_data[num_training_samples:]:\n",
    "        tokens = pre_process(text)\n",
    "        n_of_words_per_sentance_test.append(len(tokens))\n",
    "        fv = to_feature_vector_weighted(tokens)\n",
    "        test_data.append((fv,label))\n",
    "        update_bag_of_words(label, fv, global_feature_dict_positive, global_feature_dict_negative)\n",
    "        \n",
    "    avr_words_per_sentance_train = int(sum(n_of_words_per_sentance_train)/len(n_of_words_per_sentance_train))\n",
    "    avr_words_per_sentance_test = int(sum(n_of_words_per_sentance_test)/len(n_of_words_per_sentance_test))\n",
    "    print(' *** The average number of features per sentence for train dataset = {}'.format(avr_words_per_sentance_train))\n",
    "    print(' *** The average number of features per sentence for test dataset = {}'.format(avr_words_per_sentance_test))\n",
    "\n",
    "    return global_feature_dict_positive, global_feature_dict_negative\n",
    "\n",
    "def update_bag_of_words(label, feature, global_feature_dict_a, global_feature_dict_b):\n",
    "    '''\n",
    "    This method will update the bag of words for positive and negative label.\n",
    "    Parameter:\n",
    "        It takes label, features, global_feature_dict for positive label, and global_feature_dict\n",
    "        for negative label.\n",
    "\n",
    "    This method will not return any variable. It will update the global feature dict according to label.\n",
    "    '''\n",
    "    if label == 'positive':\n",
    "        global_feature_dict_a.update(feature.keys())\n",
    "    else:\n",
    "        global_feature_dict_b.update(feature.keys())\n",
    "\n",
    "# test bag of words for positive & bag of words for negative\n",
    "global_feature_dict_a =Counter()\n",
    "global_feature_dict_b =Counter()\n",
    "update_bag_of_words('positive', {\"a\":1, \"b\":2}, global_feature_dict_a, global_feature_dict_b)\n",
    "update_bag_of_words('positive', {\"a\":1, \"c\":2}, global_feature_dict_a, global_feature_dict_b)\n",
    "print(global_feature_dict_a)"
   ]
  },
  {
   "cell_type": "markdown",
   "metadata": {
    "id": "YWfWyx97rquI"
   },
   "source": [
    "# Input and Basic preprocessing"
   ]
  },
  {
   "cell_type": "code",
   "execution_count": 217,
   "metadata": {
    "id": "1nXE2bBNrquK"
   },
   "outputs": [],
   "source": [
    "def parse_data_line(data_line):\n",
    "    ''' \n",
    "    Function takes a data line which is an array of string element.\n",
    "    Returns:\n",
    "        if valid length returns tuple of (label, text)\n",
    "        else tuple of (None, None)\n",
    "    '''\n",
    "    if len(data_line) >= 3:\n",
    "        return (data_line[1], data_line[2])"
   ]
  },
  {
   "cell_type": "code",
   "execution_count": 218,
   "metadata": {
    "colab": {
     "base_uri": "https://localhost:8080/"
    },
    "id": "-BOdMB-yrquL",
    "outputId": "ea65b81b-0256-4544-d666-9b6981627a7c"
   },
   "outputs": [
    {
     "name": "stdout",
     "output_type": "stream",
     "text": [
      "['love', 'india', 'beautiful', 'country']\n",
      "['love', 'india', 'india', 'beautiful', 'country']\n"
     ]
    }
   ],
   "source": [
    "from nltk.corpus import stopwords\n",
    "from nltk.stem import WordNetLemmatizer\n",
    "\n",
    "# To store number of words per sentance\n",
    "number_of_words_per_sentence = []\n",
    "\n",
    "def pre_process(text):\n",
    "    '''\n",
    "    After doing a sentence segmentation, we want to extract tokens from a sentence.\n",
    "    This method takes a string (sentence) and returns all the tokens. Tokens are\n",
    "    nothing but words.\n",
    "    '''\n",
    "    text = re.sub(r'http.\\S+', '', text )\n",
    "    \n",
    "    # We are separating any punctuation symbols from the end and the beginning.\n",
    "    # This will be helpful in subsequent filtering of tokens where we do/don't require punctuation as per our need.\n",
    "    text = re.sub(r\"(\\w)([.,;:!?'\\\"”\\)])\", r\"\\1 \\2\", text)\n",
    "    text = re.sub(r\"([.,;:!?'\\\"“\\(\\)])(\\w)\", r\"\\1 \\2\", text)\n",
    "    \n",
    "    # Now, we can just split the sentence by whitespace.\n",
    "    tokens = re.split(r\"\\s+\",text)\n",
    "    \n",
    "    # Normalisation - transform all the tokens in lowercase because different cases \n",
    "    # might be inferred as a different feature that we don't want\n",
    "    tokens = [t.lower() for t in tokens]\n",
    "\n",
    "    # Let's add stop words filter. This will remove words like \"the\", \"and\", \"is\" etc \n",
    "    stop_words = set(stopwords.words('english'))\n",
    "    tokens = [token.lower() for token in tokens if token.lower() not in stop_words]\n",
    "\n",
    "    # Let's filter out tokens that are punctuation. I might need to remove this if the accuracy is decreasing.\n",
    "    tokens = [token for token in tokens if token not in string.punctuation]\n",
    "\n",
    "    # Let's lemmatize tokens to their base form to normalize the data and also reduce the irrelevant features\n",
    "    lemmatizer = WordNetLemmatizer()\n",
    "    tokens = [lemmatizer.lemmatize(token) for token in tokens]\n",
    "    return tokens\n",
    "\n",
    "\n",
    "# Unit testing this function\n",
    "# Test Case 1 - Positive Test Case\n",
    "processed_text = pre_process(\"https://t.co/Nt2a0llMwL I love India, and it is very beautiful country. https://t.co/Nt2a0llMwL\")\n",
    "print(processed_text)\n",
    "assert processed_text == ['love', 'india', 'beautiful', 'country']\n",
    "\n",
    "# Test Case 2 - Positive Test Case (repeated words)\n",
    "processed_text = pre_process(\"I love India, and India is very beautiful country.\")\n",
    "print(processed_text)\n",
    "assert processed_text == ['love', 'india', 'india', 'beautiful', 'country']\n"
   ]
  },
  {
   "cell_type": "markdown",
   "metadata": {
    "id": "cabadEyerquN"
   },
   "source": [
    "# Basic Feature Extraction"
   ]
  },
  {
   "cell_type": "code",
   "execution_count": 219,
   "metadata": {
    "id": "hx-dcZODrquO"
   },
   "outputs": [
    {
     "name": "stdout",
     "output_type": "stream",
     "text": [
      "{'favorite': 1, 'game': 1, 'chess': 1, 'favorite game': 1, 'game chess': 1}\n",
      "Counter({'favorite': 1, 'game': 1, 'chess': 1, 'favorite game': 1, 'game chess': 1})\n",
      "{'favorite': 1, 'favorite subject': 1, 'nlp': 1, 'nlp favorite': 1, 'subject': 1}\n",
      "Counter({'favorite': 2, 'game': 1, 'chess': 1, 'favorite game': 1, 'game chess': 1, 'favorite subject': 1, 'nlp': 1, 'nlp favorite': 1, 'subject': 1})\n"
     ]
    }
   ],
   "source": [
    "from collections import Counter\n",
    "from nltk.util import ngrams\n",
    "from sklearn.feature_extraction.text import CountVectorizer, TfidfVectorizer\n",
    "\n",
    "# To store a global counter of words/tokens for the document. This represents a bag of words. \n",
    "global_feature_dict = Counter()\n",
    "def to_feature_vector(tokens):\n",
    "    '''\n",
    "    Extracts feature from a list of tokens.\n",
    "    Parameter:\n",
    "        A list of tokens for a sentence.\n",
    "    Returns:\n",
    "        A dictionary of tokens and corresponding weight. The weight will be zero/one since following a binary approach.\n",
    "    '''\n",
    "    \n",
    "    # Using bigram to get more quality features\n",
    "    bigrams = list(ngrams(tokens, 2))\n",
    "    \n",
    "    # Initialize a CountVectorizer with binary feature values and ngram_range\n",
    "    # # Case 1\n",
    "    vectorizer = CountVectorizer(binary=True, ngram_range=(1,2), max_features=200000)\n",
    "\n",
    "    # Case 2\n",
    "    # vectorizer = CountVectorizer(binary=True, ngram_range=(1,2))\n",
    "    \n",
    "    features = tokens + [' '.join(bigram) for bigram in bigrams]\n",
    "    vector_transformation = vectorizer.fit_transform(features)\n",
    "\n",
    "    # Get feature names ie words in the sentence\n",
    "    feature_names = vectorizer.get_feature_names_out()\n",
    "    \n",
    "    # Update the global feature dictionary\n",
    "    global_feature_dict.update(feature_names)\n",
    "\n",
    "    '''\n",
    "    Create a dictionary to return with the token as key and weight as value.\n",
    "\n",
    "    Using two approaches for the weight of the token:-\n",
    "    a) Applying weight as 1 for each word\n",
    "    b) Applying weight as the occurrence of the word - bag of word representation\n",
    "    Note:- The observations of the above approaches are given in the report.\n",
    "    '''\n",
    "    \n",
    "    # feature_vector = dict(zip(feature_names, vector_transformation.sum(axis=0).A1)) # Applying weight as the occurrence of the word - bag of word representation\n",
    "    feature_vector = {token: 1 for token in feature_names} # \n",
    "    return feature_vector\n",
    "\n",
    "def to_feature_vector_weighted(tokens):\n",
    "\n",
    "    '''\n",
    "    Extracts feature from a list of tokens.\n",
    "    Parameter:\n",
    "        A list of tokens for a sentence.\n",
    "    Returns:\n",
    "        A dictionary of tokens and corresponding weight (frequency/occurrence).\n",
    "    '''\n",
    "    \n",
    "    # Using bigram to get more quality features\n",
    "    bigrams = list(ngrams(tokens, 2))\n",
    "    features = tokens + [' '.join(bigram) for bigram in bigrams]\n",
    "    \n",
    "    featureVector = {}  # local feature vector for this example (in dict form)\n",
    "    for word in features:\n",
    "        try:\n",
    "            featureVector[word] += 1\n",
    "        except KeyError:\n",
    "            # else if it's not in the local feature vector, create the entry with 1/n weight\n",
    "            featureVector[word] = 1 #(1.0/len(words))\n",
    "\n",
    "    global_feature_dict.update(featureVector.keys())\n",
    "    return featureVector\n",
    "\n",
    "# Unit testing this function\n",
    "# Test Case 1 - Positive Test Case\n",
    "token = pre_process(\"My favorite game is chess\")\n",
    "test_case_1_result = to_feature_vector_weighted(token)\n",
    "print(test_case_1_result)\n",
    "print(global_feature_dict)\n",
    "assert test_case_1_result == {'chess': 1, 'favorite': 1, 'favorite game': 1, 'game': 1, 'game chess': 1}\n",
    "assert global_feature_dict == {'chess': 1, 'favorite': 1, 'favorite game': 1, 'game': 1, 'game chess': 1}\n",
    "\n",
    "# Test Case 1 - Positive Test Case\n",
    "token = pre_process(\"NLP is my favorite subject, :)\")\n",
    "test_case_2_result = to_feature_vector(token)\n",
    "print(test_case_2_result)\n",
    "print(global_feature_dict)\n",
    "assert test_case_2_result == {'favorite': 1, 'favorite subject': 1, 'nlp': 1, 'nlp favorite': 1, 'subject': 1}\n",
    "assert global_feature_dict == {'favorite': 2, 'chess': 1, 'favorite game': 1, 'game': 1, 'game chess': 1, 'favorite subject': 1, 'nlp': 1, 'nlp favorite': 1, 'subject': 1}\n"
   ]
  },
  {
   "cell_type": "code",
   "execution_count": 220,
   "metadata": {
    "id": "uqmw8_ozrquO"
   },
   "outputs": [],
   "source": [
    "# TRAINING AND VALIDATING OUR CLASSIFIER\n",
    "\n",
    "def train_classifier(data):\n",
    "\n",
    "    '''\n",
    "    There are cases defined for the analysis of SVM parameters.\n",
    "    Uncomment to run the model accordingly.\n",
    "    '''\n",
    "    # # Case 1\n",
    "    # print(\"Training Classifier...\")\n",
    "    # pipeline =  Pipeline([('svc', LinearSVC(dual='auto', C=1.0))])\n",
    "\n",
    "    # # Case 2\n",
    "    # class_weights = {0: 10.0, 1: 1.0}\n",
    "    # pipeline =  Pipeline([('svc', LinearSVC(dual='auto', C=1.0, class_weight=class_weights, max_iter= 100000))])\n",
    "\n",
    "    # # Case: 3\n",
    "    class_weights = {0: 100.0, 1: 1.0}\n",
    "    pipeline =  Pipeline([('svc', LinearSVC(dual='auto', C=1.0, class_weight=class_weights, max_iter= 100000))])\n",
    "    return SklearnClassifier(pipeline).train(data)\n"
   ]
  },
  {
   "cell_type": "markdown",
   "metadata": {
    "id": "FSSLbytGrquP"
   },
   "source": [
    "# Cross-validation"
   ]
  },
  {
   "cell_type": "code",
   "execution_count": 221,
   "metadata": {
    "id": "knArjUUMrquQ"
   },
   "outputs": [],
   "source": [
    "# PREDICTING LABELS GIVEN A CLASSIFIER\n",
    "\n",
    "def predict_labels(samples, classifier):\n",
    "    \"\"\"Assuming preprocessed samples, return their predicted labels from the classifier model.\"\"\"\n",
    "    return classifier.classify_many(samples)\n",
    "\n",
    "def predict_label_from_raw(sample, classifier):\n",
    "    \"\"\"Assuming raw text, return its predicted label from the classifier model.\"\"\"\n",
    "    return classifier.classify(to_feature_vector(pre_process(samples)))"
   ]
  },
  {
   "cell_type": "code",
   "execution_count": 222,
   "metadata": {
    "id": "yqAoUPvYrquQ"
   },
   "outputs": [],
   "source": [
    "#solution\n",
    "from sklearn.metrics import classification_report\n",
    "import numpy as np\n",
    "\n",
    "cv_results = {}\n",
    "label_for_train_data = []\n",
    "prediction_label = []\n",
    "def cross_validate(dataset, folds):\n",
    "    '''\n",
    "    Perform 10-fold cross-validation. \n",
    "\n",
    "    Parameter:\n",
    "        Input dataset and folds for analysis\n",
    "\n",
    "    Return:\n",
    "        Aggregated cv result for precision_metric, recall_metric, f1_metric, and accuracy\n",
    "    '''\n",
    "    results = []\n",
    "    fold_size = int(len(dataset)/folds) + 1\n",
    "    \n",
    "    for i in range(0,len(dataset),int(fold_size)):\n",
    "        print(\"Fold start on items %d - %d\" % (i, i+fold_size))\n",
    "\n",
    "        # Test and train dataset preparation\n",
    "        test_data_fold = dataset[i:i + fold_size]\n",
    "        train_data_fold = dataset[:i] + dataset[i + fold_size:]\n",
    "\n",
    "        count_of_positive = [label for text, label in train_data_fold if label == 'positive']\n",
    "        count_of_negative = [label for text, label in train_data_fold if label == 'negative']\n",
    "        \n",
    "        # features (X) and labels (y) from the training dataset and training of the classifier model\n",
    "        feature_for_train_data = [train_text for train_text, train_label in train_data_fold]\n",
    "        label_for_train_data = [train_label for train_text, train_label in train_data_fold]\n",
    "        classifier = train_classifier(list(zip(feature_for_train_data, label_for_train_data)))\n",
    "\n",
    "        # features (X) and labels (y) from the testing dataset and predicting labels using the classifier model\n",
    "        feature_for_test_data = [test_text for test_text, test_label in test_data_fold]\n",
    "        label_for_test_data = [test_label for test_text, test_label in test_data_fold]\n",
    "        prediction_label = [predict_labels(text, classifier) for text in feature_for_test_data]\n",
    "\n",
    "        '''\n",
    "        Once we have predicted the labels for the test data, we can measure the drift between the \n",
    "        labels given for the test data and the labels predicted for the test data.\n",
    "\n",
    "        As given in the question we will be calculating precision, recall, f1 score, and accuracy\n",
    "        '''\n",
    "        precision_metric, recall_metric, f1_metric, _ = precision_recall_fscore_support(label_for_test_data, prediction_label, average='weighted')\n",
    "        \n",
    "        accuracy_metric = accuracy_score(\n",
    "            label_for_test_data, prediction_label)\n",
    "\n",
    "        # Store results for this fold\n",
    "        results.append({\n",
    "            'precision': precision_metric,\n",
    "            'recall': recall_metric,\n",
    "            'f1': f1_metric,\n",
    "            'accuracy': accuracy_metric\n",
    "        })\n",
    "\n",
    "    cv_results = {\n",
    "        'precision': np.mean([d[\"precision\"] for d in results]),\n",
    "        'recall': np.mean([d[\"recall\"] for d in results]),\n",
    "        'f1': np.mean([d[\"f1\"] for d in results]),\n",
    "        'accuracy': np.mean([d[\"accuracy\"] for d in results])}\n",
    "    return cv_results\n"
   ]
  },
  {
   "cell_type": "code",
   "execution_count": 223,
   "metadata": {
    "colab": {
     "base_uri": "https://localhost:8080/"
    },
    "id": "g3FmiAovrquR",
    "outputId": "1015b6bc-31a1-4bb1-d4d4-2545219980d9"
   },
   "outputs": [
    {
     "name": "stdout",
     "output_type": "stream",
     "text": [
      "Now 0 rawData, 0 trainData, 0 testData\n",
      "Preparing the dataset...\n",
      "Now 33540 rawData, 0 trainData, 0 testData\n",
      "Preparing training and test data...\n",
      " *** The average number of features per sentence for train dataset = 11\n",
      " *** The average number of features per sentence for test dataset = 11\n",
      "After split, 33540 rawData, 26832 trainData, 6708 testData\tTraining Samples: \t26832\tFeatures: \t320629\n",
      "\n",
      "********************* Starting 10 Fold Cross Validation *********************\n",
      "Fold start on items 0 - 2684\n",
      "Fold start on items 2684 - 5368\n",
      "Fold start on items 5368 - 8052\n",
      "Fold start on items 8052 - 10736\n",
      "Fold start on items 10736 - 13420\n",
      "Fold start on items 13420 - 16104\n",
      "Fold start on items 16104 - 18788\n",
      "Fold start on items 18788 - 21472\n",
      "Fold start on items 21472 - 24156\n",
      "Fold start on items 24156 - 26840\n"
     ]
    },
    {
     "data": {
      "text/plain": [
       "{'precision': 0.8589115528556798,\n",
       " 'recall': 0.8602039100109378,\n",
       " 'f1': 0.8584929681048521,\n",
       " 'accuracy': 0.8602039100109378}"
      ]
     },
     "execution_count": 223,
     "metadata": {},
     "output_type": "execute_result"
    }
   ],
   "source": [
    "# MAIN\n",
    "import random\n",
    "from sklearn.metrics import precision_score, recall_score, f1_score, accuracy_score\n",
    "\n",
    "# loading reviews\n",
    "# initialize global lists that will be appended to by the methods below\n",
    "raw_data = []          # the filtered data from the dataset file\n",
    "train_data = []        # the pre-processed training data as a percentage of the total dataset\n",
    "test_data = []         # the pre-processed test data as a percentage of the total dataset\n",
    "\n",
    "# references to the data files\n",
    "data_file_path = 'sentiment-dataset.tsv'\n",
    "\n",
    "# Do the actual stuff (i.e. call the functions we've made)\n",
    "# We parse the dataset and put it in a raw data list\n",
    "print(\"Now %d rawData, %d trainData, %d testData\" % (len(raw_data), len(train_data), len(test_data)),\n",
    "      \"Preparing the dataset...\",sep='\\n')\n",
    "\n",
    "load_data(data_file_path)\n",
    "\n",
    "# We split the raw dataset into a set of training data and a set of test data (80/20)\n",
    "# You do the cross validation on the 80% (training data)\n",
    "# We print the number of training samples and the number of features before the split\n",
    "print(\"Now %d rawData, %d trainData, %d testData\" % (len(raw_data), len(train_data), len(test_data)),\n",
    "      \"Preparing training and test data...\",sep='\\n')\n",
    "\n",
    "b_of_words_positive, b_of_words_negative = split_and_preprocess_data(0.8)\n",
    "\n",
    "# We print the number of training samples and the number of features after the split\n",
    "print(\"After split, %d rawData, %d trainData, %d testData\" % (len(raw_data), len(train_data), len(test_data)),\n",
    "      \"Training Samples: \", len(train_data), \"Features: \", len(global_feature_dict), sep='\\t')\n",
    "\n",
    "\n",
    "print()\n",
    "print(\"********************* Starting 10 Fold Cross Validation *********************\")\n",
    "\n",
    "# Shuffle the dataset to reduce the imbalance of the dataset. \n",
    "random.seed(42)\n",
    "random.shuffle(train_data)\n",
    "cross_validate(train_data, 10)  # will work and output overall performance of p, r, f-score when cv implemented"
   ]
  },
  {
   "cell_type": "code",
   "execution_count": 224,
   "metadata": {},
   "outputs": [
    {
     "name": "stdout",
     "output_type": "stream",
     "text": [
      "The count of word: fun in positive bag is 273\n",
      "The count of word: fun in negative bag is 19\n",
      "The most common word: fun in positive bag is [('tomorrow', 3778), ('...', 2522), ('may', 2408), ('day', 2253), ('see', 1727), ('night', 1561), ('going', 1385), ('friday', 1374), ('good', 1321), ('time', 1252)]\n",
      "The most common word: fun in negative bag is [('may', 1676), ('...', 1152), ('tomorrow', 998), ('like', 815), ('trump', 614), ('get', 606), ('day', 549), ('1st', 532), ('going', 511), ('u', 497)]\n"
     ]
    }
   ],
   "source": [
    "word = 'fun'\n",
    "print('The count of word: {} in positive bag is {}'.format(word, b_of_words_positive[word]))\n",
    "print('The count of word: {} in negative bag is {}'.format(word, b_of_words_negative[word]))\n",
    "\n",
    "print('The most common word: {} in positive bag is {}'.format(word, b_of_words_positive.most_common(10)))\n",
    "print('The most common word: {} in negative bag is {}'.format(word, b_of_words_negative.most_common(10)))\n",
    "\n"
   ]
  },
  {
   "cell_type": "markdown",
   "metadata": {
    "id": "ldga7SpQrquS"
   },
   "source": [
    "# Error Analysis"
   ]
  },
  {
   "cell_type": "code",
   "execution_count": 225,
   "metadata": {
    "id": "dCr1r7ggrquS"
   },
   "outputs": [
    {
     "data": {
      "image/png": "[encoded data removed]",
      "text/plain": [
       "<Figure size 500x500 with 2 Axes>"
      ]
     },
     "metadata": {},
     "output_type": "display_data"
    },
    {
     "name": "stdout",
     "output_type": "stream",
     "text": [
      "Classification Report Values:\n",
      "               precision    recall  f1-score   support\n",
      "\n",
      "    negative       0.81      0.76      0.79       909\n",
      "    positive       0.88      0.91      0.89      1775\n",
      "\n",
      "    accuracy                           0.86      2684\n",
      "   macro avg       0.85      0.84      0.84      2684\n",
      "weighted avg       0.86      0.86      0.86      2684\n",
      "\n",
      "**** Writing FALSE POSITIVE and FALSE NEGATIVE detection (ref: fp_fn.csv)****\n"
     ]
    }
   ],
   "source": [
    "from sklearn import metrics\n",
    "import matplotlib.pyplot as plt\n",
    "# a function to make the confusion matrix readable and pretty\n",
    "def confusion_matrix_heatmap(y_test, preds, labels):\n",
    "    \"\"\"Function to plot a confusion matrix\"\"\"\n",
    "    # pass labels to the confusion matrix function to ensure right order\n",
    "    # cm = metrics.confusion_matrix(y_test, preds, labels)\n",
    "    cm = metrics.confusion_matrix(y_test, preds, labels=labels)\n",
    "    fig = plt.figure(figsize=(5,5))\n",
    "    ax = fig.add_subplot(111)\n",
    "    cax = ax.matshow(cm)\n",
    "    plt.title('Confusion matrix of the classifier')\n",
    "    fig.colorbar(cax)\n",
    "    ax.set_xticks(np.arange(len(labels)))\n",
    "    ax.set_yticks(np.arange(len(labels)))\n",
    "    ax.set_xticklabels( labels, rotation=45)\n",
    "    ax.set_yticklabels( labels)\n",
    "\n",
    "    for i in range(len(cm)):\n",
    "        for j in range(len(cm)):\n",
    "            text = ax.text(j, i, cm[i, j],\n",
    "                           ha=\"center\", va=\"center\", color=\"w\")\n",
    "\n",
    "    plt.xlabel('Predicted')\n",
    "    plt.ylabel('True')\n",
    "\n",
    "    # fix for mpl bug that cuts off top/bottom of seaborn viz:\n",
    "    b, t = plt.ylim() # discover the values for bottom and top\n",
    "    plt.ylim(b, t) # update the ylim(bottom, top) values\n",
    "    plt.show() # ta-da!\n",
    "    plt.show()\n",
    "\n",
    "    return cm\n",
    "\n",
    "def write_csv(file_name):\n",
    "    '''\n",
    "    Writes CSV file with FN and FP cases of classification\n",
    "    \n",
    "    Parameter: \n",
    "    It takes file name as parameter\n",
    "\n",
    "    '''\n",
    "    records = []        \n",
    "    for text, r, expected, actual in zip(text_for_test_data, text_for_test_data_r, label_for_test_data, prediction_label):\n",
    "        if expected == actual:\n",
    "            continue\n",
    "            \n",
    "        records.append([expected, actual, text, r])\n",
    "    \n",
    "    with open(file_name, mode='w', newline='') as file:\n",
    "        writer = csv.writer(file)\n",
    "        for record in records:\n",
    "            writer.writerow(record)\n",
    "\n",
    "\n",
    "'''\n",
    "To look at the performance of the classes we will use the above function and\n",
    "pass labels for the test data and predicted labels to see what the balance of \n",
    "false positives and false negatives for the positive and negative labels. \n",
    "'''\n",
    "\n",
    "#Fetching a single fold data to carry out an error analysis\n",
    "fold_size = int(len(train_data)/10) + 1\n",
    "first_fold_test_data = train_data[:fold_size]\n",
    "first_fold_train_data = train_data[fold_size:]\n",
    "\n",
    "first_fold_test_data_r = raw_data[:fold_size]\n",
    "first_fold_train_data_r = raw_data[fold_size:]\n",
    "text_for_test_data_r = [text for text, label in first_fold_test_data_r]\n",
    "\n",
    "# Extracting feature and label for training classifier\n",
    "feature_for_train_data = [text for text, label in first_fold_train_data]\n",
    "label_for_train_data = [label for text, label in first_fold_train_data]\n",
    "classifier = train_classifier(list(zip(feature_for_train_data, label_for_train_data)))\n",
    "\n",
    "# Extracting feature and label for testing model\n",
    "text_for_test_data = [text for text, label in first_fold_test_data]\n",
    "label_for_test_data = [label for text, label in first_fold_test_data]\n",
    "prediction_label = [classifier.classify(text) for text in text_for_test_data]\n",
    "\n",
    "# Invoking confusion_matrix_heatmap method to print confusion matrix\n",
    "confusion_matrix_heatmap(label_for_test_data, prediction_label, labels=['positive', 'negative'])\n",
    "\n",
    "# Print classification report that will have measures like recall, precision, f1 score of label.\n",
    "report = classification_report(label_for_test_data, prediction_label)\n",
    "print(\"Classification Report Values:\\n\", report)\n",
    "\n",
    "# Write FP and FN cases in CSV file - FileName is fp_fn_Optimized.csv\n",
    "print('**** Writing FALSE POSITIVE and FALSE NEGATIVE detection (ref: fp_fn.csv)****')\n",
    "write_csv(\"fp_fn_Optimized.csv\") \n"
   ]
  },
  {
   "cell_type": "code",
   "execution_count": 226,
   "metadata": {
    "colab": {
     "base_uri": "https://localhost:8080/"
    },
    "id": "hhls-X85rquS",
    "outputId": "c998f50e-d2b4-4ceb-f061-d6459b1dcff0"
   },
   "outputs": [
    {
     "name": "stdout",
     "output_type": "stream",
     "text": [
      "({'tomorrow': 1, 'release': 1, '58th': 1, 'episode': 1, '#hsonair': 1, 'profiling': 1, '@alissadossantos': 1, 'talk': 1, 'storytelling': 1, 'beyonce': 1, 'tomorrow release': 1, 'release 58th': 1, '58th episode': 1, 'episode #hsonair': 1, '#hsonair profiling': 1, 'profiling @alissadossantos': 1, '@alissadossantos talk': 1, 'talk storytelling': 1, 'storytelling beyonce': 1}, 'positive')\n",
      "Done training!\n",
      "Precision: 0.859914\n",
      "Recall: 0.861360\n",
      "F Score:0.859738\n"
     ]
    },
    {
     "data": {
      "image/png": "[encoded data removed]",
      "text/plain": [
       "<Figure size 500x500 with 2 Axes>"
      ]
     },
     "metadata": {},
     "output_type": "display_data"
    },
    {
     "name": "stdout",
     "output_type": "stream",
     "text": [
      "Classification Report Values:\n",
      "               precision    recall  f1-score   support\n",
      "\n",
      "    negative       0.83      0.76      0.79      2325\n",
      "    positive       0.88      0.92      0.90      4383\n",
      "\n",
      "    accuracy                           0.86      6708\n",
      "   macro avg       0.85      0.84      0.84      6708\n",
      "weighted avg       0.86      0.86      0.86      6708\n",
      "\n"
     ]
    }
   ],
   "source": [
    "# Finally, check the accuracy of your classifier by training on all the traning data\n",
    "# and testing on the test set\n",
    "# Will only work once all functions are complete\n",
    "functions_complete = True  # set to True once you're happy with your methods for cross val\n",
    "if functions_complete:\n",
    "    print(test_data[0])   # have a look at the first test data instance\n",
    "    classifier = train_classifier(train_data)  # train the classifier\n",
    "    test_true = [t[1] for t in test_data]   # get the ground-truth labels from the data\n",
    "    test_pred = predict_labels([x[0] for x in test_data], classifier)  # classify the test data to get predicted labels\n",
    "    final_scores = precision_recall_fscore_support(test_true, test_pred, average='weighted') # evaluate\n",
    "    print(\"Done training!\")\n",
    "    print(\"Precision: %f\\nRecall: %f\\nF Score:%f\" % final_scores[:3])\n",
    "\n",
    "    confusion_matrix_heatmap(test_true, test_pred, labels=['positive', 'negative'])\n",
    "    report = classification_report(test_true, test_pred)\n",
    "    print(\"Classification Report Values:\\n\", report)\n"
   ]
  },
  {
   "cell_type": "code",
   "execution_count": null,
   "metadata": {
    "id": "mUQz8YcwrquT"
   },
   "outputs": [],
   "source": []
  }
 ],
 "metadata": {
  "colab": {
   "provenance": []
  },
  "kernelspec": {
   "display_name": "Python 3 (ipykernel)",
   "language": "python",
   "name": "python3"
  },
  "language_info": {
   "codemirror_mode": {
    "name": "ipython",
    "version": 3
   },
   "file_extension": ".py",
   "mimetype": "text/x-python",
   "name": "python",
   "nbconvert_exporter": "python",
   "pygments_lexer": "ipython3",
   "version": "3.10.13"
  }
 },
 "nbformat": 4,
 "nbformat_minor": 4
}
